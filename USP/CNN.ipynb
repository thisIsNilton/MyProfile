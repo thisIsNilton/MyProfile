{
  "cells": [
    {
      "cell_type": "code",
      "execution_count": null,
      "metadata": {
        "id": "bvz9s_KQ10Ie"
      },
      "outputs": [],
      "source": [
        "# importação das bibliotecas necessárias\n",
        "\n",
        "import pandas as pd\n",
        "import numpy as np\n",
        "from numpy import mean\n",
        "from numpy import std\n",
        "from matplotlib import pyplot as plt\n",
        "from matplotlib import pyplot\n",
        "from sklearn.model_selection import KFold\n",
        "from tensorflow.keras.datasets import mnist\n",
        "from tensorflow.keras.utils import to_categorical\n",
        "from tensorflow.keras.models import Sequential\n",
        "from tensorflow.keras.layers import Conv2D\n",
        "from tensorflow.keras.layers import MaxPooling2D\n",
        "from tensorflow.keras.layers import Dense\n",
        "from tensorflow.keras.layers import Flatten\n",
        "from tensorflow.keras.optimizers import SGD\n",
        "from sklearn.model_selection import train_test_split\n",
        "from keras.layers import Dense, Dropout, Flatten, Conv2D, MaxPool2D, AvgPool2D, BatchNormalization, Reshape\n",
        "from keras.preprocessing.image import ImageDataGenerator\n",
        "from keras.callbacks import LearningRateScheduler\n",
        "from sklearn.metrics import accuracy_score"
      ]
    },
    {
      "cell_type": "markdown",
      "metadata": {
        "id": "4Yp3Cf0Q2ZhV"
      },
      "source": [
        "# Importação do Dataset"
      ]
    },
    {
      "cell_type": "markdown",
      "metadata": {
        "id": "VTMVtdUEm2oD"
      },
      "source": [
        "Estou me baseando fashion: https://machinelearningmastery.com/how-to-develop-a-cnn-from-scratch-for-fashion-mnist-clothing-classification/"
      ]
    },
    {
      "cell_type": "markdown",
      "metadata": {
        "id": "wuC6mmWesfa5"
      },
      "source": [
        "Estou me baseando digitos: https://machinelearningmastery.com/how-to-develop-a-convolutional-neural-network-from-scratch-for-mnist-handwritten-digit-classification/"
      ]
    },
    {
      "cell_type": "code",
      "execution_count": null,
      "metadata": {
        "id": "lVlCax6u1D_D"
      },
      "outputs": [],
      "source": [
        "from google.colab import drive\n",
        "drive.mount(\"/content/gdrive\")"
      ]
    },
    {
      "cell_type": "markdown",
      "metadata": {
        "id": "NQDqNh_omHVJ"
      },
      "source": [
        "# Carregamento dos dados"
      ]
    },
    {
      "cell_type": "code",
      "execution_count": null,
      "metadata": {
        "id": "Mhz4v6FxJg8A"
      },
      "outputs": [],
      "source": [
        "#Importando o dataset\n",
        "def load_dataset():\n",
        "\n",
        "  train = pd.read_csv('/content/gdrive/My Drive/IA - Karina/EP 1/Dataset/fashion-mnist_train.csv')\n",
        "  test = pd.read_csv('/content/gdrive/My Drive/IA - Karina/EP 1/Dataset/fashion-mnist_test.csv')\n",
        "\n",
        "  # casting para deixar todos os valores no mesmo formato, float32\n",
        "  # alguns métodos das bibliotecas utilizadas tem esse tipo como default\n",
        "  train_data = np.array(train, dtype = 'float32')\n",
        "  test_data = np.array(test, dtype='float32')\n",
        "\n",
        "  # no dataset fashion-mnist a classe encontra-se na primeira label, sendo assim abaixo ela é separada para\n",
        "  # definir as variáveis das classes.\n",
        "  x_train = train_data[:,1:]\n",
        "\n",
        "  y_train = train_data[:,0]\n",
        "\n",
        "  x_test= test_data[:,1:]\n",
        "\n",
        "  y_test=test_data[:,0]\n",
        "\n",
        "  # normalizacao sera feita abaixo\n",
        "  # a normalizacao vai reescalar dos tons de cinza para o intervalo de 0 e 1\n",
        "  # cada pixel possui varia de 0 a 255, representando os tons de branco até cinza/preto\n",
        "    # todos os valores foram divididos por 255 para normalizá-los no intervalo de 0 e 1\n",
        "  x_train = x_train / 255.0\n",
        "\n",
        "  x_test = x_test / 255.0\n",
        "\n",
        "  # todas as imagens são no formato de 28x28 pixels, shape das imagens\n",
        "  image_rows = 28\n",
        "  image_cols = 28\n",
        "  image_shape = (image_rows,image_cols,1)\n",
        "\n",
        "  # estamos trabalhando com imagens de 28x28 pixels em tons de branco a cinza em diferentes escalas\n",
        "  # tendo isso, essa imagem é tranposta em um único array\n",
        "  x_train = x_train.reshape(x_train.shape[0],*image_shape)\n",
        "  x_test = x_test.reshape(x_test.shape[0],*image_shape)\n",
        "\n",
        "  # a classe possui 10 classes (0 a 9) representados por integers\n",
        "  # com isso podemos transformá-lo em uma matriz binária de 10 elementos a partir do\n",
        "  # método one hot encoding equivalente ao to_categorical da biblioteca keras aplicada\n",
        "  y_train = to_categorical(y_train)\n",
        "  y_test = to_categorical(y_test)\n",
        "\n",
        "  return x_train, y_train, x_test, y_test"
      ]
    },
    {
      "cell_type": "code",
      "execution_count": null,
      "metadata": {
        "id": "d8y9AYRBvVef"
      },
      "outputs": [],
      "source": [
        "annealer = LearningRateScheduler(lambda x: 1e-3 * 0.95 ** x, verbose=0)\n",
        "styles=[':','-.','--','-',':','-.','--','-',':','-.','--','-'] # estilos de desenhos de linhas para os gráficos que serão construídos"
      ]
    },
    {
      "cell_type": "markdown",
      "metadata": {
        "id": "j9FWGf7MlNjU"
      },
      "source": [
        "Abaixo será feito o carregamento dos dados:"
      ]
    },
    {
      "cell_type": "code",
      "execution_count": null,
      "metadata": {
        "id": "8SzYxR0LgrTJ"
      },
      "outputs": [],
      "source": [
        "x_train, y_train, x_test, y_test = load_dataset()"
      ]
    },
    {
      "cell_type": "markdown",
      "metadata": {
        "id": "WecFFIUfnVjT"
      },
      "source": [
        "# Definição do modelo base"
      ]
    },
    {
      "cell_type": "code",
      "execution_count": null,
      "metadata": {
        "id": "cQLi5681aZo-"
      },
      "outputs": [],
      "source": [
        "# Para definir o modelo chamamos \"Sequential\" um modelo de tensorflow.keras\n",
        "# Esse é apropriado para utilização quando temos um tensor para cada entrada e saída em uma pilha simples de camada\n",
        "# Dentre as formas de definir um modelo vamos optar pelo método (.add) empilhando a camada de forma incremental permitindo o monitoramento,\n",
        "# observando-a como uma pilha de camadas, assim podemos observar a redução da resolução dos mapas de recurso da imagem\n",
        "def define_basic_model():\n",
        "\n",
        "\tmodel = Sequential() # inicializa o modelo sequencial\n",
        "\n",
        "\tmodel.add(Conv2D(filters=32, kernel_size=(5, 5), strides=1, padding='same', activation='relu', kernel_initializer='he_uniform', input_shape=(28, 28, 1)))\n",
        "\t# Conv2D() método que cria o primeiro kernel de convolução para imagem 2D\n",
        "\t\t# Passaremos o formato da imagem | função de ativação \"Relu\" por melhor prática\n",
        "\t\t# Kernel da camada de entrada 5x5 e filtros, que são determinados durante o aprendizado quais serão\n",
        "\t\t# {strides=1, padding='same'} = {preenchimento com zeros, tamanho do passo}, nossa saída terá o mesmo tamanho da entrada pois estamos movendo de 1 em 1 dentro do espaço dimensional da imagem\n",
        "\t\t# kernel_initializer='he_uniform' desenha uma amostra de distribuição uniforme dentro de [-limit, limit], onde limit = sqrt(6 / fan_in) (fan_in é o número de unidades de entrada no tensor de peso)\n",
        "\n",
        "\tmodel.add(MaxPooling2D(pool_size=(2, 2)))\n",
        " \t# reduzimos o tamanho da imagem pelo valor mais significativo de uma matriz 3x3 para uma 2x2\n",
        "\n",
        "\tmodel.add(Flatten())\n",
        "\t# faz o achatamento, transforma em um único array, matriz (var, 1)\n",
        "\n",
        "\t# a partir deste ponto iniciaremos a implementação das camadas densas da rede neural que recebem os parâmetros da camada anterior\n",
        "\tmodel.add(Dense(256, activation='relu', kernel_initializer='he_uniform'))\n",
        "\t# em mãos o resultado da camada anterior, aplicaremos aqui os mesmos parâmentros do primeiro kernel convolucional\n",
        "\n",
        "\tmodel.add(Dense(10, activation='softmax'))\n",
        "\t# Por último, faremos aqui a camada de saída\n",
        "\t# Se tratando da camada de saída não mais aplicaremos filters=32, mas sim filters=10 (quantidade de classes esperadas)\n",
        "\t# Altera-se a função de ativação de Relu para Softmax normalmente aplicada na última camada\n",
        "\t# Softmax() devolve um valor decimal de probabilidade para cada classe, Sftmax = exp(yi) / SUM{0-i}(exp(yi))\n",
        "\n",
        "\n",
        "\tmodel.compile(optimizer=\"adam\", loss='categorical_crossentropy', metrics=['accuracy'])\n",
        "\t# loss='categorical_crossentropy' foi escolhida pois é um método adequado quando se trabalha multi-classes\n",
        "\treturn model"
      ]
    },
    {
      "cell_type": "markdown",
      "metadata": {
        "id": "vtQ8khT7oKBp"
      },
      "source": [
        "# Avaliação do modelo"
      ]
    },
    {
      "cell_type": "code",
      "execution_count": null,
      "metadata": {
        "id": "1tSO3NlCoLR0"
      },
      "outputs": [],
      "source": [
        "# Avaliação do modelo com cross validation, k=5\n",
        "def evaluate_model(dataX, dataY, model, n_folds=5):\n",
        "\tscores, histories = list(), list()\n",
        "\t# Inicializa a função\n",
        "\tkfold = KFold(n_folds, shuffle=True, random_state=1)\n",
        "\t# enumera as partes\n",
        "\tfor train_ix, test_ix in kfold.split(dataX):\n",
        "\n",
        "\t\t# seleciona os modelos de treino e teste\n",
        "\t\ttrainX, trainY, testX, testY = dataX[train_ix], dataY[train_ix], dataX[test_ix], dataY[test_ix]\n",
        "\t\t# modela com a quantidade de épocas e o tamanho do batch\n",
        "\t\thistory = model.fit(trainX, trainY, epochs=10, batch_size=32, validation_data=(testX, testY), verbose=0)\n",
        "\t\t# Calcula a acurácia\n",
        "\t\t_, acc = model.evaluate(testX, testY, verbose=0)\n",
        "\t\tprint('> %.3f' % (acc * 100.0))\n",
        "\t\t# alimenta a list de resposta\n",
        "\t\tscores.append(acc)\n",
        "\t\thistories.append(history)\n",
        "\treturn scores, histories"
      ]
    },
    {
      "cell_type": "markdown",
      "metadata": {
        "id": "69X84w6CpZjO"
      },
      "source": [
        "# Impressão de resultados"
      ]
    },
    {
      "cell_type": "code",
      "execution_count": null,
      "metadata": {
        "id": "5ChDBG5Lpa-r"
      },
      "outputs": [],
      "source": [
        "# Imprime o gráfico das curvas de apendizado\n",
        "def summarize_diagnostics(histories):\n",
        "\tfor i in range(len(histories)):\n",
        "\t\t# cuva de perdas\n",
        "\t\tpyplot.subplot(211)\n",
        "\t\tpyplot.title('Cross Entropy Loss')\n",
        "\t\tpyplot.plot(histories[i].history['loss'], color='blue', label='train')\n",
        "\t\tpyplot.plot(histories[i].history['val_loss'], color='orange', label='test')\n",
        "\t\t# curva de acurácia\n",
        "\t\tpyplot.subplot(212)\n",
        "\t\tpyplot.title('Classification Accuracy')\n",
        "\t\tpyplot.plot(histories[i].history['accuracy'], color='blue', label='train')\n",
        "\t\tpyplot.plot(histories[i].history['val_accuracy'], color='orange', label='test')\n",
        "\tpyplot.show()"
      ]
    },
    {
      "cell_type": "code",
      "execution_count": null,
      "metadata": {
        "id": "2iSY-ZGKpe27"
      },
      "outputs": [],
      "source": [
        "# Resume a performance do modelo\n",
        "def summarize_performance(scores):\n",
        "\t# imprime os dados sumarizados\n",
        "\tprint('Accuracy: mean=%.3f std=%.3f, n=%d' % (mean(scores)*100, std(scores)*100, len(scores)))\n",
        "\t# gráfico boxplot de resultados\n",
        "\tpyplot.boxplot(scores)\n",
        "\tpyplot.show()"
      ]
    },
    {
      "cell_type": "markdown",
      "metadata": {
        "id": "s_wo4goVpjaC"
      },
      "source": [
        "# Juntando tudo"
      ]
    },
    {
      "cell_type": "code",
      "execution_count": null,
      "metadata": {
        "id": "Hh6La7J20WVp"
      },
      "outputs": [],
      "source": [
        "# Executa o arnês de teste para avaliar um modelo\n",
        "def run_test(model):\n",
        "\n",
        "\t# carregar conjunto de dados\n",
        "\ttrainX, trainY, testX, testY = load_dataset()\n",
        "\n",
        "\t# avalia o modelo\n",
        "\tscores, histories = evaluate_model(trainX, trainY, model)\n",
        "\n",
        "\t# curvas de aprendizado\n",
        "\tsummarize_diagnostics(histories)\n",
        "\n",
        "\t# resumir o desempenho estimado\n",
        "\tsummarize_performance(scores)"
      ]
    },
    {
      "cell_type": "markdown",
      "metadata": {
        "id": "ZI8RAVdc_sFS"
      },
      "source": [
        "# Avaliação do modelo base"
      ]
    },
    {
      "cell_type": "code",
      "execution_count": null,
      "metadata": {
        "id": "lkMcElWEzloV"
      },
      "outputs": [],
      "source": [
        "run_test(define_basic_model())"
      ]
    },
    {
      "cell_type": "markdown",
      "metadata": {
        "id": "_p-BX4kKJEMq"
      },
      "source": [
        "# Calibração"
      ]
    },
    {
      "cell_type": "markdown",
      "metadata": {
        "id": "1nOGorbcGUhc"
      },
      "source": [
        "Essa função possui como finalidade fazer a calibração do modelo, de forma a fazer testes com diferentes configurações para que seja escolhida a configuração que possuir o melhor desempenho, de modo a se levar em consideração também o custo computacional."
      ]
    },
    {
      "cell_type": "code",
      "execution_count": null,
      "metadata": {
        "id": "wk1MN9xa3AHC"
      },
      "outputs": [],
      "source": [
        "# função que será utilizada para testar diferentes configurações de modelos\n",
        "def avalia_calibracao(names):\n",
        "\n",
        "  nets = len(names) # numero de redes é equivalente aos nomes dados para cada configuracao de modelo\n",
        "\n",
        "  # CRIAÇÃO DO CONJUNTO DE VALIDAÇÃO APLICANDO A CROSS VALIDATION\n",
        "  X_train2, X_val2, Y_train2, Y_val2 = train_test_split(x_train, y_train, test_size = 0.333)\n",
        "\n",
        "  k_folds = 3 # quantidade de folds\n",
        "\n",
        "  history = [0] * nets * k_folds # quantidade de modelos totais que serao criados\n",
        "\n",
        "  mean_val_hist = [] # lista que vai armazenar as acuracias medias de cada configuracao de modelo\n",
        "\n",
        "  epochs = 10 # quantidade de epocas\n",
        "\n",
        "  kfold = KFold(k_folds, shuffle=True, random_state=1)\n",
        "\n",
        "  curr_model = -1 # numero do modelo atual, que na prática vai de 0 até [(nets * k_folds) - 1]\n",
        "\n",
        "  for config_modelo in range(nets): # iteracao atraves de cada uma das configuracoes de modelos\n",
        "\n",
        "      curr_mean_val = np.array([0.0] * epochs) # vetor que vai armazenar na posicao \"x\" a soma das (k_folds) acuracias da configuracao de modelo atual que tambem estao na posicao \"x\"\n",
        "\n",
        "      # enumeracao dos k splits\n",
        "      for train_ix, test_ix in kfold.split(X_train2):\n",
        "\n",
        "          curr_model += 1 # numero do modelo atual que sera construido\n",
        "\n",
        "          # select rows for train and test (validation)\n",
        "          trainX, trainY, testX, testY = X_train2[train_ix], Y_train2[train_ix], X_train2[test_ix], Y_train2[test_ix]\n",
        "\n",
        "          # treinamento da rede do modelo atual\n",
        "          history[curr_model] = model[config_modelo].fit(trainX, trainY, batch_size=80, epochs = epochs, validation_data = (testX,testY), callbacks=[annealer], verbose=2)\n",
        "\n",
        "          if ((curr_model + 1) % k_folds) == 0: # terminou de analisar todos os k folds para uma configuracao de modelo, agora é necessário escolher o melhor modelo da configuracao analisada entre os k modelos\n",
        "\n",
        "              total_acc = [] # acuracias obtidas no treino\n",
        "              total_acc_val = [] # acuracias obtidas na validacao\n",
        "\n",
        "              for k in range(k_folds): # vamos voltar para analisar cada um dos modelos criados para a configuracao atual\n",
        "\n",
        "                  total_acc += history[curr_model - k].history['accuracy'] # adiciona todas as acuracias (treinamento) do modelo atual na lista de acuracia da configuracao atual\n",
        "                  total_acc_val += history[curr_model - k].history['val_accuracy'] # adiciona todas as acuracias (validacao) do modelo atual na lista de acuracia da configuracao atrual\n",
        "                  curr_mean_val += np.array(history[curr_model - k].history['val_accuracy']) # incrementa com as metricas de cada modelo\n",
        "\n",
        "              print(\"CNN {0}: Epochs={1:d}, Train accuracy={2:.5f}, Validation accuracy={3:.5f}\".format(\n",
        "                  names[config_modelo],epochs,max(total_acc),max(total_acc_val)))\n",
        "\n",
        "      curr_mean_val  = curr_mean_val / k_folds # divide para calcular a media\n",
        "      curr_mean_val = list(curr_mean_val)\n",
        "      mean_val_hist.append(curr_mean_val)\n",
        "\n",
        "  # PLOT ACCURACIES\n",
        "  plt.figure(figsize=(15,5))\n",
        "  for i in range(nets):\n",
        "      plt.plot(mean_val_hist[i],linestyle=styles[i])\n",
        "  plt.title('model accuracy')\n",
        "  plt.ylabel('accuracy')\n",
        "  plt.xlabel('epoch')\n",
        "  plt.legend(names, loc='upper left')\n",
        "  plt.show()"
      ]
    },
    {
      "cell_type": "markdown",
      "metadata": {
        "id": "7wtLiEPBYSsT"
      },
      "source": [
        "## Camadas de convolução-pooling"
      ]
    },
    {
      "cell_type": "code",
      "execution_count": null,
      "metadata": {
        "id": "HwH7N6OWG_0A"
      },
      "outputs": [],
      "source": [
        "# Construção das redes neurais convolucionais que serão comparadas\n",
        "# Serão comparadas 3 configurações de modelos, em que a primeira possui 1 camada de convolução-pooling,\n",
        "# a segunda possui 2 camadas, e a terceira possui 3 camadas de convolução-pooling\n",
        "\n",
        "nets = 3 # quantidade de redes\n",
        "model = [0] *nets # modelos que serão construidos\n",
        "\n",
        "for j in range(3):\n",
        "    model[j] = Sequential()\n",
        "\n",
        "    model[j].add(Conv2D(24,kernel_size=5,padding='same',activation='relu', input_shape=(28,28,1), strides=1, kernel_initializer='he_uniform')) # modelo 1, 2 e 3 vão receber uma primeira camada de convolução-pooling\n",
        "    model[j].add(MaxPool2D())\n",
        "\n",
        "    if j>0: # modelo 1 e 2 vão receber uma segunda camada de convolução-pooling\n",
        "        model[j].add(Conv2D(48,kernel_size=5,padding='same',activation='relu', strides=1, kernel_initializer='he_uniform'))\n",
        "        model[j].add(MaxPool2D())\n",
        "\n",
        "    if j>1: # modelo 2 vai receber uma terceira camada de convolução-pooling\n",
        "        model[j].add(Conv2D(64,kernel_size=5,padding='same',activation='relu', strides=1, kernel_initializer='he_uniform'))\n",
        "        model[j].add(MaxPool2D(padding='same'))\n",
        "\n",
        "    model[j].add(Flatten())\n",
        "    model[j].add(Dense(256, activation='relu', kernel_initializer='he_uniform'))\n",
        "    model[j].add(Dense(10, activation='softmax'))\n",
        "\n",
        "    model[j].compile(optimizer=\"adam\", loss=\"categorical_crossentropy\", metrics=[\"accuracy\"])"
      ]
    },
    {
      "cell_type": "code",
      "execution_count": null,
      "metadata": {
        "id": "A1JGUZa5TAXP"
      },
      "outputs": [],
      "source": [
        "names = [\"1 camada\",\"2 camadas\",\"3 camadas\"]\n",
        "avalia_calibracao(names)"
      ]
    },
    {
      "cell_type": "markdown",
      "metadata": {
        "id": "nKHA41zC9vfO"
      },
      "source": [
        "A partir do gráfico acima, infere-se que a apenas uma camada de convolução-pooling é a quantidade que obteve o melhor desempenho. Sendo assim, essa configuração será mantida nos próximos testes do modelo."
      ]
    },
    {
      "cell_type": "markdown",
      "metadata": {
        "id": "2DiNBQOryOpH"
      },
      "source": [
        "## Features maps (filters)"
      ]
    },
    {
      "cell_type": "code",
      "execution_count": null,
      "metadata": {
        "id": "TFiKp8ZKbrlO"
      },
      "outputs": [],
      "source": [
        "# Construção das redes neurais convolucionais que serão comparadas\n",
        "# Serão comparadas 6 configurações de modelos, cada uma com as seguintes quantidades de filters: 8, 16, 24, 32, 48, 64\n",
        "\n",
        "nets = 6\n",
        "model = [0] *nets\n",
        "for j in range(6):\n",
        "    model[j] = Sequential()\n",
        "\n",
        "    model[j].add(Conv2D(j*8+8,kernel_size=5,activation='relu',input_shape=(28,28,1), strides=1, kernel_initializer='he_uniform', padding='same')) # o modelo j vai receber (j*8+8) filters\n",
        "    model[j].add(MaxPool2D())\n",
        "\n",
        "    model[j].add(Flatten())\n",
        "    model[j].add(Dense(256, activation='relu', kernel_initializer='he_uniform'))\n",
        "    model[j].add(Dense(10, activation='softmax'))\n",
        "\n",
        "    model[j].compile(optimizer=\"adam\", loss=\"categorical_crossentropy\", metrics=[\"accuracy\"])"
      ]
    },
    {
      "cell_type": "code",
      "execution_count": null,
      "metadata": {
        "id": "S-Vo4yS1TJXs"
      },
      "outputs": [],
      "source": [
        "names = [\"8 filters\",\"16 filters\",\"24 filters\",\"32 filters\",\"48 filters\",\"64 filters\"]\n",
        "avalia_calibracao(names)"
      ]
    },
    {
      "cell_type": "markdown",
      "metadata": {
        "id": "E0wOmI5t99tj"
      },
      "source": [
        "A partir do gráfico acima, conclui-se que a melhor quantidade de features maps (filters) na CNN é 64, pois ela que obteve o melhor desempenho. Sendo assim, essa configuração será mantida nos posteriores testes."
      ]
    },
    {
      "cell_type": "markdown",
      "metadata": {
        "id": "4mtbey8dAHLc"
      },
      "source": [
        "## Neurônios na camada densa"
      ]
    },
    {
      "cell_type": "code",
      "execution_count": null,
      "metadata": {
        "id": "ruKWx3qrK20O"
      },
      "outputs": [],
      "source": [
        "# Construção das redes neurais convolucionais que serão comparadas\n",
        "# Serão construídos 8 configurações de modelos em que cada uma possui as seguintes quantidades de neurônios\n",
        "# na camada densa: 0, 32, 64, 128, 256, 512, 1024, 2048\n",
        "\n",
        "nets = 8\n",
        "model = [0] *nets\n",
        "\n",
        "for j in range(8):\n",
        "    model[j] = Sequential()\n",
        "    model[j].add(Conv2D(64,kernel_size=5,activation='relu',input_shape=(28,28,1), strides=1, kernel_initializer='he_uniform', padding='same'))\n",
        "    model[j].add(MaxPool2D())\n",
        "    model[j].add(Flatten())\n",
        "\n",
        "    if j>0:\n",
        "        model[j].add(Dense(2**(j+4), activation='relu', kernel_initializer='he_uniform')) # os modelos de j=1 até j=7 vão receber uma quantidade de neurônios na camada densa igual a 2**(j+4)\n",
        "\n",
        "    # modelo 0 vai receber 0 neurônios na camada densa\n",
        "\n",
        "    model[j].add(Dense(10, activation='softmax'))\n",
        "    model[j].compile(optimizer=\"adam\", loss=\"categorical_crossentropy\", metrics=[\"accuracy\"])"
      ]
    },
    {
      "cell_type": "code",
      "execution_count": null,
      "metadata": {
        "colab": {
          "background_save": true,
          "base_uri": "https://localhost:8080/"
        },
        "id": "yDIrcn4tTNoN",
        "outputId": "22b6bf7f-bece-4761-cc83-3cadf4356593"
      },
      "outputs": [
        {
          "name": "stdout",
          "output_type": "stream",
          "text": [
            "Epoch 1/10\n",
            "334/334 - 17s - loss: 0.5870 - accuracy: 0.7916 - val_loss: 0.4156 - val_accuracy: 0.8573 - lr: 0.0010 - 17s/epoch - 51ms/step\n",
            "Epoch 2/10\n",
            "334/334 - 16s - loss: 0.3902 - accuracy: 0.8624 - val_loss: 0.3769 - val_accuracy: 0.8687 - lr: 9.5000e-04 - 16s/epoch - 49ms/step\n",
            "Epoch 3/10\n",
            "334/334 - 15s - loss: 0.3409 - accuracy: 0.8793 - val_loss: 0.3598 - val_accuracy: 0.8758 - lr: 9.0250e-04 - 15s/epoch - 46ms/step\n",
            "Epoch 4/10\n",
            "334/334 - 16s - loss: 0.3093 - accuracy: 0.8920 - val_loss: 0.3313 - val_accuracy: 0.8853 - lr: 8.5737e-04 - 16s/epoch - 48ms/step\n",
            "Epoch 5/10\n",
            "334/334 - 15s - loss: 0.2902 - accuracy: 0.8976 - val_loss: 0.3165 - val_accuracy: 0.8922 - lr: 8.1451e-04 - 15s/epoch - 45ms/step\n",
            "Epoch 6/10\n",
            "334/334 - 16s - loss: 0.2705 - accuracy: 0.9074 - val_loss: 0.3149 - val_accuracy: 0.8900 - lr: 7.7378e-04 - 16s/epoch - 48ms/step\n",
            "Epoch 7/10\n",
            "334/334 - 16s - loss: 0.2565 - accuracy: 0.9120 - val_loss: 0.3107 - val_accuracy: 0.8897 - lr: 7.3509e-04 - 16s/epoch - 48ms/step\n",
            "Epoch 8/10\n",
            "334/334 - 16s - loss: 0.2436 - accuracy: 0.9153 - val_loss: 0.3031 - val_accuracy: 0.8923 - lr: 6.9834e-04 - 16s/epoch - 48ms/step\n",
            "Epoch 9/10\n",
            "334/334 - 15s - loss: 0.2332 - accuracy: 0.9198 - val_loss: 0.3010 - val_accuracy: 0.8943 - lr: 6.6342e-04 - 15s/epoch - 45ms/step\n",
            "Epoch 10/10\n",
            "334/334 - 15s - loss: 0.2214 - accuracy: 0.9239 - val_loss: 0.3081 - val_accuracy: 0.8910 - lr: 6.3025e-04 - 15s/epoch - 46ms/step\n",
            "Epoch 1/10\n",
            "334/334 - 16s - loss: 0.2664 - accuracy: 0.9066 - val_loss: 0.2266 - val_accuracy: 0.9210 - lr: 0.0010 - 16s/epoch - 48ms/step\n",
            "Epoch 2/10\n",
            "334/334 - 16s - loss: 0.2468 - accuracy: 0.9117 - val_loss: 0.2388 - val_accuracy: 0.9182 - lr: 9.5000e-04 - 16s/epoch - 49ms/step\n",
            "Epoch 3/10\n",
            "334/334 - 15s - loss: 0.2270 - accuracy: 0.9186 - val_loss: 0.2216 - val_accuracy: 0.9208 - lr: 9.0250e-04 - 15s/epoch - 45ms/step\n",
            "Epoch 4/10\n",
            "334/334 - 15s - loss: 0.2135 - accuracy: 0.9245 - val_loss: 0.2268 - val_accuracy: 0.9202 - lr: 8.5737e-04 - 15s/epoch - 44ms/step\n",
            "Epoch 5/10\n",
            "334/334 - 15s - loss: 0.2043 - accuracy: 0.9269 - val_loss: 0.2288 - val_accuracy: 0.9205 - lr: 8.1451e-04 - 15s/epoch - 44ms/step\n",
            "Epoch 6/10\n",
            "334/334 - 16s - loss: 0.1911 - accuracy: 0.9334 - val_loss: 0.2176 - val_accuracy: 0.9258 - lr: 7.7378e-04 - 16s/epoch - 48ms/step\n",
            "Epoch 7/10\n",
            "334/334 - 15s - loss: 0.1817 - accuracy: 0.9360 - val_loss: 0.2275 - val_accuracy: 0.9170 - lr: 7.3509e-04 - 15s/epoch - 45ms/step\n",
            "Epoch 8/10\n",
            "334/334 - 16s - loss: 0.1727 - accuracy: 0.9403 - val_loss: 0.2178 - val_accuracy: 0.9233 - lr: 6.9834e-04 - 16s/epoch - 48ms/step\n",
            "Epoch 9/10\n",
            "334/334 - 16s - loss: 0.1648 - accuracy: 0.9430 - val_loss: 0.2263 - val_accuracy: 0.9194 - lr: 6.6342e-04 - 16s/epoch - 47ms/step\n",
            "Epoch 10/10\n",
            "334/334 - 16s - loss: 0.1578 - accuracy: 0.9464 - val_loss: 0.2260 - val_accuracy: 0.9229 - lr: 6.3025e-04 - 16s/epoch - 48ms/step\n",
            "Epoch 1/10\n",
            "334/334 - 15s - loss: 0.2063 - accuracy: 0.9253 - val_loss: 0.1682 - val_accuracy: 0.9429 - lr: 0.0010 - 15s/epoch - 44ms/step\n",
            "Epoch 2/10\n",
            "334/334 - 16s - loss: 0.1824 - accuracy: 0.9359 - val_loss: 0.1632 - val_accuracy: 0.9423 - lr: 9.5000e-04 - 16s/epoch - 47ms/step\n",
            "Epoch 3/10\n",
            "334/334 - 15s - loss: 0.1692 - accuracy: 0.9402 - val_loss: 0.1701 - val_accuracy: 0.9382 - lr: 9.0250e-04 - 15s/epoch - 44ms/step\n",
            "Epoch 4/10\n",
            "334/334 - 15s - loss: 0.1585 - accuracy: 0.9445 - val_loss: 0.1679 - val_accuracy: 0.9392 - lr: 8.5737e-04 - 15s/epoch - 44ms/step\n",
            "Epoch 5/10\n",
            "334/334 - 15s - loss: 0.1482 - accuracy: 0.9479 - val_loss: 0.1704 - val_accuracy: 0.9379 - lr: 8.1451e-04 - 15s/epoch - 44ms/step\n",
            "Epoch 6/10\n",
            "334/334 - 15s - loss: 0.1406 - accuracy: 0.9509 - val_loss: 0.1720 - val_accuracy: 0.9372 - lr: 7.7378e-04 - 15s/epoch - 44ms/step\n",
            "Epoch 7/10\n",
            "334/334 - 14s - loss: 0.1321 - accuracy: 0.9551 - val_loss: 0.1782 - val_accuracy: 0.9363 - lr: 7.3509e-04 - 14s/epoch - 43ms/step\n",
            "Epoch 8/10\n",
            "334/334 - 15s - loss: 0.1277 - accuracy: 0.9565 - val_loss: 0.1723 - val_accuracy: 0.9367 - lr: 6.9834e-04 - 15s/epoch - 43ms/step\n",
            "Epoch 9/10\n",
            "334/334 - 16s - loss: 0.1198 - accuracy: 0.9602 - val_loss: 0.1715 - val_accuracy: 0.9379 - lr: 6.6342e-04 - 16s/epoch - 47ms/step\n",
            "Epoch 10/10\n",
            "334/334 - 15s - loss: 0.1160 - accuracy: 0.9609 - val_loss: 0.1766 - val_accuracy: 0.9358 - lr: 6.3025e-04 - 15s/epoch - 44ms/step\n",
            "CNN 0N: Epochs=10, Train accuracy=0.96091, Validation accuracy=0.94288\n",
            "Epoch 1/10\n",
            "334/334 - 17s - loss: 0.6212 - accuracy: 0.7855 - val_loss: 0.4390 - val_accuracy: 0.8463 - lr: 0.0010 - 17s/epoch - 51ms/step\n",
            "Epoch 2/10\n",
            "334/334 - 16s - loss: 0.3929 - accuracy: 0.8620 - val_loss: 0.3596 - val_accuracy: 0.8726 - lr: 9.5000e-04 - 16s/epoch - 49ms/step\n",
            "Epoch 3/10\n",
            "334/334 - 18s - loss: 0.3412 - accuracy: 0.8808 - val_loss: 0.3726 - val_accuracy: 0.8698 - lr: 9.0250e-04 - 18s/epoch - 53ms/step\n",
            "Epoch 4/10\n",
            "334/334 - 15s - loss: 0.3082 - accuracy: 0.8926 - val_loss: 0.3426 - val_accuracy: 0.8806 - lr: 8.5737e-04 - 15s/epoch - 46ms/step\n",
            "Epoch 5/10\n",
            "334/334 - 16s - loss: 0.2859 - accuracy: 0.8997 - val_loss: 0.3208 - val_accuracy: 0.8866 - lr: 8.1451e-04 - 16s/epoch - 49ms/step\n",
            "Epoch 6/10\n",
            "334/334 - 15s - loss: 0.2661 - accuracy: 0.9062 - val_loss: 0.3262 - val_accuracy: 0.8868 - lr: 7.7378e-04 - 15s/epoch - 45ms/step\n",
            "Epoch 7/10\n",
            "334/334 - 15s - loss: 0.2529 - accuracy: 0.9111 - val_loss: 0.3053 - val_accuracy: 0.8933 - lr: 7.3509e-04 - 15s/epoch - 45ms/step\n",
            "Epoch 8/10\n",
            "334/334 - 15s - loss: 0.2367 - accuracy: 0.9178 - val_loss: 0.3097 - val_accuracy: 0.8927 - lr: 6.9834e-04 - 15s/epoch - 45ms/step\n",
            "Epoch 9/10\n",
            "334/334 - 15s - loss: 0.2204 - accuracy: 0.9227 - val_loss: 0.3069 - val_accuracy: 0.8927 - lr: 6.6342e-04 - 15s/epoch - 46ms/step\n",
            "Epoch 10/10\n",
            "334/334 - 16s - loss: 0.2107 - accuracy: 0.9274 - val_loss: 0.3103 - val_accuracy: 0.8922 - lr: 6.3025e-04 - 16s/epoch - 48ms/step\n",
            "Epoch 1/10\n",
            "334/334 - 15s - loss: 0.2618 - accuracy: 0.9069 - val_loss: 0.2187 - val_accuracy: 0.9230 - lr: 0.0010 - 15s/epoch - 45ms/step\n",
            "Epoch 2/10\n",
            "334/334 - 15s - loss: 0.2360 - accuracy: 0.9151 - val_loss: 0.2552 - val_accuracy: 0.9041 - lr: 9.5000e-04 - 15s/epoch - 45ms/step\n",
            "Epoch 3/10\n",
            "334/334 - 15s - loss: 0.2196 - accuracy: 0.9224 - val_loss: 0.2104 - val_accuracy: 0.9260 - lr: 9.0250e-04 - 15s/epoch - 45ms/step\n",
            "Epoch 4/10\n",
            "334/334 - 15s - loss: 0.1980 - accuracy: 0.9298 - val_loss: 0.2045 - val_accuracy: 0.9274 - lr: 8.5737e-04 - 15s/epoch - 45ms/step\n",
            "Epoch 5/10\n",
            "334/334 - 15s - loss: 0.1851 - accuracy: 0.9334 - val_loss: 0.2175 - val_accuracy: 0.9225 - lr: 8.1451e-04 - 15s/epoch - 45ms/step\n",
            "Epoch 6/10\n",
            "334/334 - 19s - loss: 0.1739 - accuracy: 0.9369 - val_loss: 0.2125 - val_accuracy: 0.9238 - lr: 7.7378e-04 - 19s/epoch - 56ms/step\n",
            "Epoch 7/10\n",
            "334/334 - 16s - loss: 0.1601 - accuracy: 0.9433 - val_loss: 0.2071 - val_accuracy: 0.9274 - lr: 7.3509e-04 - 16s/epoch - 47ms/step\n",
            "Epoch 8/10\n",
            "334/334 - 15s - loss: 0.1495 - accuracy: 0.9475 - val_loss: 0.2050 - val_accuracy: 0.9264 - lr: 6.9834e-04 - 15s/epoch - 44ms/step\n",
            "Epoch 9/10\n",
            "334/334 - 17s - loss: 0.1397 - accuracy: 0.9509 - val_loss: 0.2198 - val_accuracy: 0.9226 - lr: 6.6342e-04 - 17s/epoch - 50ms/step\n",
            "Epoch 10/10\n",
            "334/334 - 16s - loss: 0.1287 - accuracy: 0.9554 - val_loss: 0.2094 - val_accuracy: 0.9245 - lr: 6.3025e-04 - 16s/epoch - 47ms/step\n",
            "Epoch 1/10\n",
            "334/334 - 15s - loss: 0.1959 - accuracy: 0.9310 - val_loss: 0.1563 - val_accuracy: 0.9431 - lr: 0.0010 - 15s/epoch - 46ms/step\n",
            "Epoch 2/10\n",
            "334/334 - 15s - loss: 0.1650 - accuracy: 0.9408 - val_loss: 0.1466 - val_accuracy: 0.9463 - lr: 9.5000e-04 - 15s/epoch - 45ms/step\n",
            "Epoch 3/10\n",
            "334/334 - 15s - loss: 0.1470 - accuracy: 0.9469 - val_loss: 0.1344 - val_accuracy: 0.9516 - lr: 9.0250e-04 - 15s/epoch - 45ms/step\n",
            "Epoch 4/10\n",
            "334/334 - 15s - loss: 0.1310 - accuracy: 0.9540 - val_loss: 0.1469 - val_accuracy: 0.9433 - lr: 8.5737e-04 - 15s/epoch - 45ms/step\n",
            "Epoch 5/10\n",
            "334/334 - 16s - loss: 0.1228 - accuracy: 0.9572 - val_loss: 0.1415 - val_accuracy: 0.9466 - lr: 8.1451e-04 - 16s/epoch - 48ms/step\n",
            "Epoch 6/10\n",
            "334/334 - 15s - loss: 0.1135 - accuracy: 0.9602 - val_loss: 0.1498 - val_accuracy: 0.9454 - lr: 7.7378e-04 - 15s/epoch - 46ms/step\n",
            "Epoch 7/10\n",
            "334/334 - 15s - loss: 0.1031 - accuracy: 0.9636 - val_loss: 0.1454 - val_accuracy: 0.9460 - lr: 7.3509e-04 - 15s/epoch - 45ms/step\n",
            "Epoch 8/10\n",
            "334/334 - 15s - loss: 0.0925 - accuracy: 0.9678 - val_loss: 0.1457 - val_accuracy: 0.9469 - lr: 6.9834e-04 - 15s/epoch - 45ms/step\n",
            "Epoch 9/10\n",
            "334/334 - 15s - loss: 0.0838 - accuracy: 0.9729 - val_loss: 0.1544 - val_accuracy: 0.9409 - lr: 6.6342e-04 - 15s/epoch - 45ms/step\n",
            "Epoch 10/10\n",
            "334/334 - 16s - loss: 0.0809 - accuracy: 0.9732 - val_loss: 0.1542 - val_accuracy: 0.9426 - lr: 6.3025e-04 - 16s/epoch - 49ms/step\n",
            "CNN 32N: Epochs=10, Train accuracy=0.97324, Validation accuracy=0.95157\n",
            "Epoch 1/10\n",
            "334/334 - 19s - loss: 0.5442 - accuracy: 0.8063 - val_loss: 0.4410 - val_accuracy: 0.8501 - lr: 0.0010 - 19s/epoch - 56ms/step\n",
            "Epoch 2/10\n",
            "334/334 - 16s - loss: 0.3579 - accuracy: 0.8738 - val_loss: 0.3454 - val_accuracy: 0.8770 - lr: 9.5000e-04 - 16s/epoch - 49ms/step\n",
            "Epoch 3/10\n",
            "334/334 - 18s - loss: 0.3059 - accuracy: 0.8937 - val_loss: 0.3357 - val_accuracy: 0.8830 - lr: 9.0250e-04 - 18s/epoch - 55ms/step\n",
            "Epoch 4/10\n",
            "334/334 - 16s - loss: 0.2763 - accuracy: 0.9015 - val_loss: 0.3063 - val_accuracy: 0.8924 - lr: 8.5737e-04 - 16s/epoch - 48ms/step\n",
            "Epoch 5/10\n",
            "334/334 - 17s - loss: 0.2478 - accuracy: 0.9133 - val_loss: 0.3073 - val_accuracy: 0.8918 - lr: 8.1451e-04 - 17s/epoch - 50ms/step\n",
            "Epoch 6/10\n",
            "334/334 - 17s - loss: 0.2226 - accuracy: 0.9209 - val_loss: 0.2824 - val_accuracy: 0.9015 - lr: 7.7378e-04 - 17s/epoch - 51ms/step\n",
            "Epoch 7/10\n",
            "334/334 - 15s - loss: 0.2046 - accuracy: 0.9277 - val_loss: 0.2889 - val_accuracy: 0.9006 - lr: 7.3509e-04 - 15s/epoch - 45ms/step\n",
            "Epoch 8/10\n",
            "334/334 - 15s - loss: 0.1855 - accuracy: 0.9341 - val_loss: 0.3077 - val_accuracy: 0.8918 - lr: 6.9834e-04 - 15s/epoch - 46ms/step\n",
            "Epoch 9/10\n",
            "334/334 - 16s - loss: 0.1675 - accuracy: 0.9403 - val_loss: 0.2806 - val_accuracy: 0.9043 - lr: 6.6342e-04 - 16s/epoch - 48ms/step\n",
            "Epoch 10/10\n",
            "334/334 - 15s - loss: 0.1523 - accuracy: 0.9478 - val_loss: 0.2802 - val_accuracy: 0.9028 - lr: 6.3025e-04 - 15s/epoch - 45ms/step\n",
            "Epoch 1/10\n",
            "334/334 - 15s - loss: 0.2317 - accuracy: 0.9177 - val_loss: 0.1958 - val_accuracy: 0.9266 - lr: 0.0010 - 15s/epoch - 45ms/step\n",
            "Epoch 2/10\n",
            "334/334 - 15s - loss: 0.1924 - accuracy: 0.9307 - val_loss: 0.1779 - val_accuracy: 0.9339 - lr: 9.5000e-04 - 15s/epoch - 45ms/step\n",
            "Epoch 3/10\n",
            "334/334 - 16s - loss: 0.1675 - accuracy: 0.9397 - val_loss: 0.1667 - val_accuracy: 0.9396 - lr: 9.0250e-04 - 16s/epoch - 47ms/step\n",
            "Epoch 4/10\n",
            "334/334 - 16s - loss: 0.1462 - accuracy: 0.9483 - val_loss: 0.1590 - val_accuracy: 0.9433 - lr: 8.5737e-04 - 16s/epoch - 47ms/step\n",
            "Epoch 5/10\n",
            "334/334 - 15s - loss: 0.1288 - accuracy: 0.9542 - val_loss: 0.1729 - val_accuracy: 0.9368 - lr: 8.1451e-04 - 15s/epoch - 46ms/step\n",
            "Epoch 6/10\n",
            "334/334 - 17s - loss: 0.1116 - accuracy: 0.9616 - val_loss: 0.1641 - val_accuracy: 0.9412 - lr: 7.7378e-04 - 17s/epoch - 50ms/step\n",
            "Epoch 7/10\n",
            "334/334 - 16s - loss: 0.1020 - accuracy: 0.9652 - val_loss: 0.1716 - val_accuracy: 0.9388 - lr: 7.3509e-04 - 16s/epoch - 47ms/step\n",
            "Epoch 8/10\n",
            "334/334 - 17s - loss: 0.0868 - accuracy: 0.9717 - val_loss: 0.1801 - val_accuracy: 0.9348 - lr: 6.9834e-04 - 17s/epoch - 52ms/step\n",
            "Epoch 9/10\n",
            "334/334 - 17s - loss: 0.0780 - accuracy: 0.9743 - val_loss: 0.1721 - val_accuracy: 0.9393 - lr: 6.6342e-04 - 17s/epoch - 50ms/step\n",
            "Epoch 10/10\n",
            "334/334 - 16s - loss: 0.0685 - accuracy: 0.9783 - val_loss: 0.1733 - val_accuracy: 0.9388 - lr: 6.3025e-04 - 16s/epoch - 47ms/step\n",
            "Epoch 1/10\n",
            "334/334 - 16s - loss: 0.1612 - accuracy: 0.9415 - val_loss: 0.0916 - val_accuracy: 0.9687 - lr: 0.0010 - 16s/epoch - 49ms/step\n",
            "Epoch 2/10\n",
            "334/334 - 16s - loss: 0.1182 - accuracy: 0.9574 - val_loss: 0.0999 - val_accuracy: 0.9617 - lr: 9.5000e-04 - 16s/epoch - 47ms/step\n",
            "Epoch 3/10\n",
            "334/334 - 17s - loss: 0.0947 - accuracy: 0.9663 - val_loss: 0.0940 - val_accuracy: 0.9660 - lr: 9.0250e-04 - 17s/epoch - 50ms/step\n",
            "Epoch 4/10\n",
            "334/334 - 15s - loss: 0.0754 - accuracy: 0.9742 - val_loss: 0.0995 - val_accuracy: 0.9630 - lr: 8.5737e-04 - 15s/epoch - 46ms/step\n",
            "Epoch 5/10\n",
            "334/334 - 15s - loss: 0.0653 - accuracy: 0.9790 - val_loss: 0.1010 - val_accuracy: 0.9611 - lr: 8.1451e-04 - 15s/epoch - 46ms/step\n",
            "Epoch 6/10\n",
            "334/334 - 16s - loss: 0.0550 - accuracy: 0.9819 - val_loss: 0.0803 - val_accuracy: 0.9702 - lr: 7.7378e-04 - 16s/epoch - 49ms/step\n",
            "Epoch 7/10\n",
            "334/334 - 16s - loss: 0.0435 - accuracy: 0.9872 - val_loss: 0.0909 - val_accuracy: 0.9660 - lr: 7.3509e-04 - 16s/epoch - 49ms/step\n",
            "Epoch 8/10\n",
            "334/334 - 16s - loss: 0.0389 - accuracy: 0.9880 - val_loss: 0.0819 - val_accuracy: 0.9693 - lr: 6.9834e-04 - 16s/epoch - 49ms/step\n",
            "Epoch 9/10\n",
            "334/334 - 17s - loss: 0.0311 - accuracy: 0.9913 - val_loss: 0.1032 - val_accuracy: 0.9619 - lr: 6.6342e-04 - 17s/epoch - 49ms/step\n",
            "Epoch 10/10\n",
            "334/334 - 15s - loss: 0.0248 - accuracy: 0.9936 - val_loss: 0.1090 - val_accuracy: 0.9609 - lr: 6.3025e-04 - 15s/epoch - 46ms/step\n",
            "CNN 64N: Epochs=10, Train accuracy=0.99355, Validation accuracy=0.97016\n",
            "Epoch 1/10\n",
            "334/334 - 19s - loss: 0.5166 - accuracy: 0.8190 - val_loss: 0.3913 - val_accuracy: 0.8626 - lr: 0.0010 - 19s/epoch - 56ms/step\n",
            "Epoch 2/10\n",
            "334/334 - 20s - loss: 0.3397 - accuracy: 0.8793 - val_loss: 0.3542 - val_accuracy: 0.8739 - lr: 9.5000e-04 - 20s/epoch - 59ms/step\n",
            "Epoch 3/10\n",
            "334/334 - 17s - loss: 0.2924 - accuracy: 0.8964 - val_loss: 0.3167 - val_accuracy: 0.8869 - lr: 9.0250e-04 - 17s/epoch - 52ms/step\n",
            "Epoch 4/10\n",
            "334/334 - 18s - loss: 0.2559 - accuracy: 0.9096 - val_loss: 0.2942 - val_accuracy: 0.8960 - lr: 8.5737e-04 - 18s/epoch - 55ms/step\n",
            "Epoch 5/10\n",
            "334/334 - 17s - loss: 0.2264 - accuracy: 0.9198 - val_loss: 0.2877 - val_accuracy: 0.8959 - lr: 8.1451e-04 - 17s/epoch - 52ms/step\n",
            "Epoch 6/10\n",
            "334/334 - 18s - loss: 0.1996 - accuracy: 0.9290 - val_loss: 0.3061 - val_accuracy: 0.8899 - lr: 7.7378e-04 - 18s/epoch - 54ms/step\n",
            "Epoch 7/10\n",
            "334/334 - 17s - loss: 0.1795 - accuracy: 0.9371 - val_loss: 0.3070 - val_accuracy: 0.8888 - lr: 7.3509e-04 - 17s/epoch - 52ms/step\n",
            "Epoch 8/10\n",
            "334/334 - 17s - loss: 0.1596 - accuracy: 0.9429 - val_loss: 0.2922 - val_accuracy: 0.8995 - lr: 6.9834e-04 - 17s/epoch - 51ms/step\n",
            "Epoch 9/10\n",
            "334/334 - 18s - loss: 0.1407 - accuracy: 0.9502 - val_loss: 0.2984 - val_accuracy: 0.8986 - lr: 6.6342e-04 - 18s/epoch - 54ms/step\n",
            "Epoch 10/10\n",
            "334/334 - 17s - loss: 0.1262 - accuracy: 0.9563 - val_loss: 0.2797 - val_accuracy: 0.9042 - lr: 6.3025e-04 - 17s/epoch - 52ms/step\n",
            "Epoch 1/10\n",
            "334/334 - 19s - loss: 0.2199 - accuracy: 0.9218 - val_loss: 0.1674 - val_accuracy: 0.9401 - lr: 0.0010 - 19s/epoch - 56ms/step\n",
            "Epoch 2/10\n",
            "334/334 - 17s - loss: 0.1698 - accuracy: 0.9386 - val_loss: 0.1717 - val_accuracy: 0.9386 - lr: 9.5000e-04 - 17s/epoch - 51ms/step\n",
            "Epoch 3/10\n",
            "334/334 - 18s - loss: 0.1498 - accuracy: 0.9469 - val_loss: 0.1469 - val_accuracy: 0.9460 - lr: 9.0250e-04 - 18s/epoch - 54ms/step\n",
            "Epoch 4/10\n",
            "334/334 - 17s - loss: 0.1227 - accuracy: 0.9568 - val_loss: 0.1412 - val_accuracy: 0.9484 - lr: 8.5737e-04 - 17s/epoch - 51ms/step\n",
            "Epoch 5/10\n",
            "334/334 - 18s - loss: 0.1025 - accuracy: 0.9640 - val_loss: 0.1446 - val_accuracy: 0.9467 - lr: 8.1451e-04 - 18s/epoch - 53ms/step\n",
            "Epoch 6/10\n",
            "334/334 - 17s - loss: 0.0859 - accuracy: 0.9708 - val_loss: 0.1440 - val_accuracy: 0.9472 - lr: 7.7378e-04 - 17s/epoch - 51ms/step\n",
            "Epoch 7/10\n",
            "334/334 - 17s - loss: 0.0760 - accuracy: 0.9743 - val_loss: 0.1447 - val_accuracy: 0.9484 - lr: 7.3509e-04 - 17s/epoch - 51ms/step\n",
            "Epoch 8/10\n",
            "334/334 - 18s - loss: 0.0626 - accuracy: 0.9795 - val_loss: 0.1484 - val_accuracy: 0.9446 - lr: 6.9834e-04 - 18s/epoch - 54ms/step\n",
            "Epoch 9/10\n",
            "334/334 - 18s - loss: 0.0559 - accuracy: 0.9820 - val_loss: 0.1571 - val_accuracy: 0.9445 - lr: 6.6342e-04 - 18s/epoch - 53ms/step\n",
            "Epoch 10/10\n",
            "334/334 - 18s - loss: 0.0455 - accuracy: 0.9857 - val_loss: 0.1575 - val_accuracy: 0.9475 - lr: 6.3025e-04 - 18s/epoch - 54ms/step\n",
            "Epoch 1/10\n",
            "334/334 - 18s - loss: 0.1441 - accuracy: 0.9481 - val_loss: 0.0926 - val_accuracy: 0.9656 - lr: 0.0010 - 18s/epoch - 52ms/step\n",
            "Epoch 2/10\n",
            "334/334 - 17s - loss: 0.0956 - accuracy: 0.9649 - val_loss: 0.0785 - val_accuracy: 0.9717 - lr: 9.5000e-04 - 17s/epoch - 52ms/step\n",
            "Epoch 3/10\n",
            "334/334 - 17s - loss: 0.0748 - accuracy: 0.9740 - val_loss: 0.0706 - val_accuracy: 0.9750 - lr: 9.0250e-04 - 17s/epoch - 52ms/step\n",
            "Epoch 4/10\n",
            "334/334 - 18s - loss: 0.0536 - accuracy: 0.9825 - val_loss: 0.0697 - val_accuracy: 0.9750 - lr: 8.5737e-04 - 18s/epoch - 54ms/step\n",
            "Epoch 5/10\n",
            "334/334 - 17s - loss: 0.0416 - accuracy: 0.9872 - val_loss: 0.0742 - val_accuracy: 0.9724 - lr: 8.1451e-04 - 17s/epoch - 52ms/step\n",
            "Epoch 6/10\n",
            "334/334 - 20s - loss: 0.0327 - accuracy: 0.9898 - val_loss: 0.0706 - val_accuracy: 0.9735 - lr: 7.7378e-04 - 20s/epoch - 61ms/step\n",
            "Epoch 7/10\n",
            "334/334 - 17s - loss: 0.0285 - accuracy: 0.9916 - val_loss: 0.0773 - val_accuracy: 0.9689 - lr: 7.3509e-04 - 17s/epoch - 51ms/step\n",
            "Epoch 8/10\n",
            "334/334 - 18s - loss: 0.0231 - accuracy: 0.9939 - val_loss: 0.0786 - val_accuracy: 0.9720 - lr: 6.9834e-04 - 18s/epoch - 54ms/step\n",
            "Epoch 9/10\n",
            "334/334 - 17s - loss: 0.0173 - accuracy: 0.9958 - val_loss: 0.0622 - val_accuracy: 0.9774 - lr: 6.6342e-04 - 17s/epoch - 52ms/step\n",
            "Epoch 10/10\n",
            "334/334 - 18s - loss: 0.0136 - accuracy: 0.9972 - val_loss: 0.0664 - val_accuracy: 0.9748 - lr: 6.3025e-04 - 18s/epoch - 54ms/step\n",
            "CNN 128N: Epochs=10, Train accuracy=0.99719, Validation accuracy=0.97744\n",
            "Epoch 1/10\n",
            "334/334 - 23s - loss: 0.4957 - accuracy: 0.8216 - val_loss: 0.4200 - val_accuracy: 0.8537 - lr: 0.0010 - 23s/epoch - 70ms/step\n",
            "Epoch 2/10\n",
            "334/334 - 22s - loss: 0.3260 - accuracy: 0.8879 - val_loss: 0.3397 - val_accuracy: 0.8779 - lr: 9.5000e-04 - 22s/epoch - 67ms/step\n",
            "Epoch 3/10\n",
            "334/334 - 23s - loss: 0.2726 - accuracy: 0.9024 - val_loss: 0.2902 - val_accuracy: 0.8945 - lr: 9.0250e-04 - 23s/epoch - 69ms/step\n",
            "Epoch 4/10\n",
            "334/334 - 23s - loss: 0.2402 - accuracy: 0.9128 - val_loss: 0.2890 - val_accuracy: 0.8964 - lr: 8.5737e-04 - 23s/epoch - 67ms/step\n",
            "Epoch 5/10\n",
            "334/334 - 22s - loss: 0.2084 - accuracy: 0.9238 - val_loss: 0.2884 - val_accuracy: 0.8966 - lr: 8.1451e-04 - 22s/epoch - 67ms/step\n",
            "Epoch 6/10\n",
            "334/334 - 22s - loss: 0.1788 - accuracy: 0.9359 - val_loss: 0.2779 - val_accuracy: 0.9020 - lr: 7.7378e-04 - 22s/epoch - 67ms/step\n",
            "Epoch 7/10\n",
            "334/334 - 24s - loss: 0.1533 - accuracy: 0.9451 - val_loss: 0.2774 - val_accuracy: 0.9049 - lr: 7.3509e-04 - 24s/epoch - 72ms/step\n",
            "Epoch 8/10\n",
            "334/334 - 24s - loss: 0.1342 - accuracy: 0.9534 - val_loss: 0.2742 - val_accuracy: 0.9055 - lr: 6.9834e-04 - 24s/epoch - 72ms/step\n",
            "Epoch 9/10\n",
            "334/334 - 24s - loss: 0.1150 - accuracy: 0.9595 - val_loss: 0.2825 - val_accuracy: 0.9086 - lr: 6.6342e-04 - 24s/epoch - 73ms/step\n",
            "Epoch 10/10\n",
            "334/334 - 22s - loss: 0.0954 - accuracy: 0.9664 - val_loss: 0.3008 - val_accuracy: 0.9019 - lr: 6.3025e-04 - 22s/epoch - 66ms/step\n",
            "Epoch 1/10\n",
            "334/334 - 23s - loss: 0.2090 - accuracy: 0.9263 - val_loss: 0.1494 - val_accuracy: 0.9475 - lr: 0.0010 - 23s/epoch - 69ms/step\n",
            "Epoch 2/10\n",
            "334/334 - 23s - loss: 0.1560 - accuracy: 0.9427 - val_loss: 0.1309 - val_accuracy: 0.9521 - lr: 9.5000e-04 - 23s/epoch - 68ms/step\n",
            "Epoch 3/10\n",
            "334/334 - 22s - loss: 0.1189 - accuracy: 0.9568 - val_loss: 0.1360 - val_accuracy: 0.9503 - lr: 9.0250e-04 - 22s/epoch - 67ms/step\n",
            "Epoch 4/10\n",
            "334/334 - 22s - loss: 0.0971 - accuracy: 0.9649 - val_loss: 0.1219 - val_accuracy: 0.9552 - lr: 8.5737e-04 - 22s/epoch - 67ms/step\n",
            "Epoch 5/10\n",
            "334/334 - 22s - loss: 0.0759 - accuracy: 0.9741 - val_loss: 0.1205 - val_accuracy: 0.9542 - lr: 8.1451e-04 - 22s/epoch - 65ms/step\n",
            "Epoch 6/10\n",
            "334/334 - 22s - loss: 0.0606 - accuracy: 0.9795 - val_loss: 0.1596 - val_accuracy: 0.9450 - lr: 7.7378e-04 - 22s/epoch - 65ms/step\n",
            "Epoch 7/10\n",
            "334/334 - 22s - loss: 0.0522 - accuracy: 0.9820 - val_loss: 0.1369 - val_accuracy: 0.9517 - lr: 7.3509e-04 - 22s/epoch - 67ms/step\n",
            "Epoch 8/10\n",
            "334/334 - 22s - loss: 0.0390 - accuracy: 0.9877 - val_loss: 0.1265 - val_accuracy: 0.9552 - lr: 6.9834e-04 - 22s/epoch - 67ms/step\n",
            "Epoch 9/10\n",
            "334/334 - 22s - loss: 0.0308 - accuracy: 0.9910 - val_loss: 0.1327 - val_accuracy: 0.9556 - lr: 6.6342e-04 - 22s/epoch - 67ms/step\n",
            "Epoch 10/10\n",
            "334/334 - 22s - loss: 0.0275 - accuracy: 0.9916 - val_loss: 0.1357 - val_accuracy: 0.9552 - lr: 6.3025e-04 - 22s/epoch - 65ms/step\n",
            "Epoch 1/10\n",
            "334/334 - 22s - loss: 0.1388 - accuracy: 0.9512 - val_loss: 0.0734 - val_accuracy: 0.9750 - lr: 0.0010 - 22s/epoch - 67ms/step\n",
            "Epoch 2/10\n",
            "334/334 - 24s - loss: 0.0828 - accuracy: 0.9704 - val_loss: 0.0606 - val_accuracy: 0.9786 - lr: 9.5000e-04 - 24s/epoch - 72ms/step\n",
            "Epoch 3/10\n",
            "334/334 - 24s - loss: 0.0529 - accuracy: 0.9821 - val_loss: 0.0611 - val_accuracy: 0.9780 - lr: 9.0250e-04 - 24s/epoch - 72ms/step\n",
            "Epoch 4/10\n",
            "334/334 - 24s - loss: 0.0351 - accuracy: 0.9890 - val_loss: 0.0445 - val_accuracy: 0.9839 - lr: 8.5737e-04 - 24s/epoch - 72ms/step\n",
            "Epoch 5/10\n",
            "334/334 - 24s - loss: 0.0312 - accuracy: 0.9897 - val_loss: 0.0498 - val_accuracy: 0.9828 - lr: 8.1451e-04 - 24s/epoch - 73ms/step\n",
            "Epoch 6/10\n",
            "334/334 - 24s - loss: 0.0230 - accuracy: 0.9931 - val_loss: 0.0420 - val_accuracy: 0.9858 - lr: 7.7378e-04 - 24s/epoch - 72ms/step\n",
            "Epoch 7/10\n",
            "334/334 - 24s - loss: 0.0133 - accuracy: 0.9967 - val_loss: 0.0629 - val_accuracy: 0.9777 - lr: 7.3509e-04 - 24s/epoch - 72ms/step\n",
            "Epoch 8/10\n",
            "334/334 - 24s - loss: 0.0137 - accuracy: 0.9962 - val_loss: 0.0422 - val_accuracy: 0.9845 - lr: 6.9834e-04 - 24s/epoch - 72ms/step\n",
            "Epoch 9/10\n",
            "334/334 - 24s - loss: 0.0100 - accuracy: 0.9977 - val_loss: 0.0415 - val_accuracy: 0.9845 - lr: 6.6342e-04 - 24s/epoch - 72ms/step\n",
            "Epoch 10/10\n",
            "334/334 - 21s - loss: 0.0053 - accuracy: 0.9991 - val_loss: 0.0453 - val_accuracy: 0.9834 - lr: 6.3025e-04 - 21s/epoch - 64ms/step\n",
            "CNN 256N: Epochs=10, Train accuracy=0.99906, Validation accuracy=0.98583\n",
            "Epoch 1/10\n",
            "334/334 - 35s - loss: 0.4731 - accuracy: 0.8304 - val_loss: 0.3749 - val_accuracy: 0.8640 - lr: 0.0010 - 35s/epoch - 105ms/step\n",
            "Epoch 2/10\n",
            "334/334 - 33s - loss: 0.3105 - accuracy: 0.8898 - val_loss: 0.3112 - val_accuracy: 0.8902 - lr: 9.5000e-04 - 33s/epoch - 100ms/step\n",
            "Epoch 3/10\n",
            "334/334 - 34s - loss: 0.2554 - accuracy: 0.9082 - val_loss: 0.3007 - val_accuracy: 0.8920 - lr: 9.0250e-04 - 34s/epoch - 103ms/step\n",
            "Epoch 4/10\n",
            "334/334 - 35s - loss: 0.2125 - accuracy: 0.9234 - val_loss: 0.2909 - val_accuracy: 0.8939 - lr: 8.5737e-04 - 35s/epoch - 104ms/step\n",
            "Epoch 5/10\n",
            "334/334 - 35s - loss: 0.1792 - accuracy: 0.9348 - val_loss: 0.2786 - val_accuracy: 0.8984 - lr: 8.1451e-04 - 35s/epoch - 104ms/step\n",
            "Epoch 6/10\n",
            "334/334 - 36s - loss: 0.1523 - accuracy: 0.9448 - val_loss: 0.2891 - val_accuracy: 0.8978 - lr: 7.7378e-04 - 36s/epoch - 107ms/step\n",
            "Epoch 7/10\n",
            "334/334 - 33s - loss: 0.1262 - accuracy: 0.9558 - val_loss: 0.2822 - val_accuracy: 0.9074 - lr: 7.3509e-04 - 33s/epoch - 99ms/step\n",
            "Epoch 8/10\n",
            "334/334 - 35s - loss: 0.1053 - accuracy: 0.9617 - val_loss: 0.2923 - val_accuracy: 0.9046 - lr: 6.9834e-04 - 35s/epoch - 103ms/step\n",
            "Epoch 9/10\n",
            "334/334 - 33s - loss: 0.0838 - accuracy: 0.9708 - val_loss: 0.2966 - val_accuracy: 0.9029 - lr: 6.6342e-04 - 33s/epoch - 100ms/step\n",
            "Epoch 10/10\n",
            "334/334 - 35s - loss: 0.0678 - accuracy: 0.9780 - val_loss: 0.3159 - val_accuracy: 0.9073 - lr: 6.3025e-04 - 35s/epoch - 105ms/step\n",
            "Epoch 1/10\n",
            "334/334 - 34s - loss: 0.2086 - accuracy: 0.9276 - val_loss: 0.1315 - val_accuracy: 0.9541 - lr: 0.0010 - 34s/epoch - 103ms/step\n",
            "Epoch 2/10\n",
            "334/334 - 35s - loss: 0.1343 - accuracy: 0.9523 - val_loss: 0.1134 - val_accuracy: 0.9606 - lr: 9.5000e-04 - 35s/epoch - 103ms/step\n",
            "Epoch 3/10\n",
            "334/334 - 35s - loss: 0.1043 - accuracy: 0.9623 - val_loss: 0.1138 - val_accuracy: 0.9570 - lr: 9.0250e-04 - 35s/epoch - 106ms/step\n",
            "Epoch 4/10\n",
            "334/334 - 34s - loss: 0.0789 - accuracy: 0.9722 - val_loss: 0.1068 - val_accuracy: 0.9585 - lr: 8.5737e-04 - 34s/epoch - 100ms/step\n",
            "Epoch 5/10\n",
            "334/334 - 34s - loss: 0.0586 - accuracy: 0.9798 - val_loss: 0.1173 - val_accuracy: 0.9567 - lr: 8.1451e-04 - 34s/epoch - 102ms/step\n",
            "Epoch 6/10\n",
            "334/334 - 34s - loss: 0.0454 - accuracy: 0.9850 - val_loss: 0.1075 - val_accuracy: 0.9606 - lr: 7.7378e-04 - 34s/epoch - 102ms/step\n",
            "Epoch 7/10\n",
            "334/334 - 33s - loss: 0.0322 - accuracy: 0.9893 - val_loss: 0.1145 - val_accuracy: 0.9585 - lr: 7.3509e-04 - 33s/epoch - 100ms/step\n",
            "Epoch 8/10\n",
            "334/334 - 33s - loss: 0.0270 - accuracy: 0.9919 - val_loss: 0.1277 - val_accuracy: 0.9547 - lr: 6.9834e-04 - 33s/epoch - 99ms/step\n",
            "Epoch 9/10\n",
            "334/334 - 33s - loss: 0.0190 - accuracy: 0.9946 - val_loss: 0.1173 - val_accuracy: 0.9603 - lr: 6.6342e-04 - 33s/epoch - 99ms/step\n",
            "Epoch 10/10\n",
            "334/334 - 33s - loss: 0.0111 - accuracy: 0.9976 - val_loss: 0.1140 - val_accuracy: 0.9635 - lr: 6.3025e-04 - 33s/epoch - 99ms/step\n",
            "Epoch 1/10\n",
            "334/334 - 35s - loss: 0.1330 - accuracy: 0.9517 - val_loss: 0.0695 - val_accuracy: 0.9752 - lr: 0.0010 - 35s/epoch - 105ms/step\n",
            "Epoch 2/10\n",
            "334/334 - 33s - loss: 0.0655 - accuracy: 0.9768 - val_loss: 0.0560 - val_accuracy: 0.9784 - lr: 9.5000e-04 - 33s/epoch - 100ms/step\n",
            "Epoch 3/10\n",
            "334/334 - 36s - loss: 0.0390 - accuracy: 0.9870 - val_loss: 0.0386 - val_accuracy: 0.9876 - lr: 9.0250e-04 - 36s/epoch - 108ms/step\n",
            "Epoch 4/10\n",
            "334/334 - 34s - loss: 0.0235 - accuracy: 0.9927 - val_loss: 0.0393 - val_accuracy: 0.9860 - lr: 8.5737e-04 - 34s/epoch - 101ms/step\n",
            "Epoch 5/10\n",
            "334/334 - 34s - loss: 0.0173 - accuracy: 0.9947 - val_loss: 0.0370 - val_accuracy: 0.9870 - lr: 8.1451e-04 - 34s/epoch - 101ms/step\n",
            "Epoch 6/10\n",
            "334/334 - 32s - loss: 0.0118 - accuracy: 0.9970 - val_loss: 0.0348 - val_accuracy: 0.9868 - lr: 7.7378e-04 - 32s/epoch - 96ms/step\n",
            "Epoch 7/10\n",
            "334/334 - 33s - loss: 0.0073 - accuracy: 0.9984 - val_loss: 0.0478 - val_accuracy: 0.9848 - lr: 7.3509e-04 - 33s/epoch - 100ms/step\n",
            "Epoch 8/10\n",
            "334/334 - 36s - loss: 0.0078 - accuracy: 0.9983 - val_loss: 0.0495 - val_accuracy: 0.9813 - lr: 6.9834e-04 - 36s/epoch - 107ms/step\n",
            "Epoch 9/10\n",
            "334/334 - 35s - loss: 0.0130 - accuracy: 0.9961 - val_loss: 0.0543 - val_accuracy: 0.9798 - lr: 6.6342e-04 - 35s/epoch - 103ms/step\n",
            "Epoch 10/10\n",
            "334/334 - 34s - loss: 0.0039 - accuracy: 0.9994 - val_loss: 0.0401 - val_accuracy: 0.9863 - lr: 6.3025e-04 - 34s/epoch - 103ms/step\n",
            "CNN 512N: Epochs=10, Train accuracy=0.99940, Validation accuracy=0.98763\n",
            "Epoch 1/10\n",
            "334/334 - 67s - loss: 0.4657 - accuracy: 0.8343 - val_loss: 0.3365 - val_accuracy: 0.8789 - lr: 0.0010 - 67s/epoch - 202ms/step\n",
            "Epoch 2/10\n",
            "334/334 - 65s - loss: 0.3040 - accuracy: 0.8922 - val_loss: 0.3224 - val_accuracy: 0.8858 - lr: 9.5000e-04 - 65s/epoch - 196ms/step\n",
            "Epoch 3/10\n",
            "334/334 - 70s - loss: 0.2470 - accuracy: 0.9117 - val_loss: 0.2866 - val_accuracy: 0.8996 - lr: 9.0250e-04 - 70s/epoch - 209ms/step\n",
            "Epoch 4/10\n",
            "334/334 - 70s - loss: 0.2002 - accuracy: 0.9277 - val_loss: 0.2884 - val_accuracy: 0.9013 - lr: 8.5737e-04 - 70s/epoch - 208ms/step\n",
            "Epoch 5/10\n",
            "334/334 - 70s - loss: 0.1648 - accuracy: 0.9401 - val_loss: 0.2920 - val_accuracy: 0.8969 - lr: 8.1451e-04 - 70s/epoch - 209ms/step\n",
            "Epoch 6/10\n",
            "334/334 - 69s - loss: 0.1325 - accuracy: 0.9517 - val_loss: 0.3124 - val_accuracy: 0.8935 - lr: 7.7378e-04 - 69s/epoch - 206ms/step\n",
            "Epoch 7/10\n",
            "334/334 - 71s - loss: 0.1102 - accuracy: 0.9614 - val_loss: 0.3157 - val_accuracy: 0.8998 - lr: 7.3509e-04 - 71s/epoch - 211ms/step\n",
            "Epoch 8/10\n",
            "334/334 - 70s - loss: 0.0879 - accuracy: 0.9684 - val_loss: 0.3289 - val_accuracy: 0.8999 - lr: 6.9834e-04 - 70s/epoch - 210ms/step\n",
            "Epoch 9/10\n",
            "334/334 - 68s - loss: 0.0674 - accuracy: 0.9766 - val_loss: 0.3206 - val_accuracy: 0.9044 - lr: 6.6342e-04 - 68s/epoch - 204ms/step\n",
            "Epoch 10/10\n",
            "334/334 - 69s - loss: 0.0517 - accuracy: 0.9829 - val_loss: 0.3335 - val_accuracy: 0.9054 - lr: 6.3025e-04 - 69s/epoch - 206ms/step\n",
            "Epoch 1/10\n",
            "334/334 - 67s - loss: 0.2125 - accuracy: 0.9261 - val_loss: 0.1318 - val_accuracy: 0.9515 - lr: 0.0010 - 67s/epoch - 200ms/step\n",
            "Epoch 2/10\n",
            "334/334 - 64s - loss: 0.1276 - accuracy: 0.9553 - val_loss: 0.0968 - val_accuracy: 0.9667 - lr: 9.5000e-04 - 64s/epoch - 192ms/step\n",
            "Epoch 3/10\n",
            "334/334 - 67s - loss: 0.0892 - accuracy: 0.9695 - val_loss: 0.0905 - val_accuracy: 0.9666 - lr: 9.0250e-04 - 67s/epoch - 202ms/step\n",
            "Epoch 4/10\n",
            "334/334 - 63s - loss: 0.0667 - accuracy: 0.9771 - val_loss: 0.1003 - val_accuracy: 0.9639 - lr: 8.5737e-04 - 63s/epoch - 188ms/step\n",
            "Epoch 5/10\n",
            "334/334 - 64s - loss: 0.0497 - accuracy: 0.9834 - val_loss: 0.0960 - val_accuracy: 0.9642 - lr: 8.1451e-04 - 64s/epoch - 191ms/step\n",
            "Epoch 6/10\n",
            "334/334 - 66s - loss: 0.0330 - accuracy: 0.9893 - val_loss: 0.0914 - val_accuracy: 0.9672 - lr: 7.7378e-04 - 66s/epoch - 199ms/step\n",
            "Epoch 7/10\n",
            "334/334 - 72s - loss: 0.0250 - accuracy: 0.9927 - val_loss: 0.0885 - val_accuracy: 0.9690 - lr: 7.3509e-04 - 72s/epoch - 217ms/step\n",
            "Epoch 8/10\n",
            "334/334 - 64s - loss: 0.0190 - accuracy: 0.9940 - val_loss: 0.0938 - val_accuracy: 0.9672 - lr: 6.9834e-04 - 64s/epoch - 193ms/step\n",
            "Epoch 9/10\n",
            "334/334 - 65s - loss: 0.0111 - accuracy: 0.9976 - val_loss: 0.0937 - val_accuracy: 0.9691 - lr: 6.6342e-04 - 65s/epoch - 193ms/step\n",
            "Epoch 10/10\n",
            "334/334 - 65s - loss: 0.0086 - accuracy: 0.9984 - val_loss: 0.1055 - val_accuracy: 0.9659 - lr: 6.3025e-04 - 65s/epoch - 195ms/step\n",
            "Epoch 1/10\n",
            "334/334 - 63s - loss: 0.1323 - accuracy: 0.9527 - val_loss: 0.0892 - val_accuracy: 0.9660 - lr: 0.0010 - 63s/epoch - 188ms/step\n",
            "Epoch 2/10\n",
            "334/334 - 64s - loss: 0.0609 - accuracy: 0.9777 - val_loss: 0.0519 - val_accuracy: 0.9827 - lr: 9.5000e-04 - 64s/epoch - 193ms/step\n",
            "Epoch 3/10\n",
            "334/334 - 71s - loss: 0.0324 - accuracy: 0.9892 - val_loss: 0.0432 - val_accuracy: 0.9843 - lr: 9.0250e-04 - 71s/epoch - 211ms/step\n",
            "Epoch 4/10\n",
            "334/334 - 67s - loss: 0.0216 - accuracy: 0.9931 - val_loss: 0.0423 - val_accuracy: 0.9865 - lr: 8.5737e-04 - 67s/epoch - 199ms/step\n",
            "Epoch 5/10\n",
            "334/334 - 67s - loss: 0.0152 - accuracy: 0.9955 - val_loss: 0.0308 - val_accuracy: 0.9889 - lr: 8.1451e-04 - 67s/epoch - 200ms/step\n",
            "Epoch 6/10\n",
            "334/334 - 63s - loss: 0.0066 - accuracy: 0.9988 - val_loss: 0.0285 - val_accuracy: 0.9899 - lr: 7.7378e-04 - 63s/epoch - 189ms/step\n",
            "Epoch 7/10\n",
            "334/334 - 63s - loss: 0.0059 - accuracy: 0.9985 - val_loss: 0.0281 - val_accuracy: 0.9899 - lr: 7.3509e-04 - 63s/epoch - 189ms/step\n",
            "Epoch 8/10\n",
            "334/334 - 65s - loss: 0.0052 - accuracy: 0.9987 - val_loss: 0.0314 - val_accuracy: 0.9889 - lr: 6.9834e-04 - 65s/epoch - 195ms/step\n",
            "Epoch 9/10\n",
            "334/334 - 65s - loss: 0.0076 - accuracy: 0.9977 - val_loss: 0.0317 - val_accuracy: 0.9879 - lr: 6.6342e-04 - 65s/epoch - 196ms/step\n",
            "Epoch 10/10\n",
            "334/334 - 63s - loss: 0.0026 - accuracy: 0.9996 - val_loss: 0.0242 - val_accuracy: 0.9908 - lr: 6.3025e-04 - 63s/epoch - 187ms/step\n",
            "CNN 1024N: Epochs=10, Train accuracy=0.99959, Validation accuracy=0.99078\n",
            "Epoch 1/10\n",
            "334/334 - 125s - loss: 0.4579 - accuracy: 0.8364 - val_loss: 0.3512 - val_accuracy: 0.8699 - lr: 0.0010 - 125s/epoch - 373ms/step\n",
            "Epoch 2/10\n",
            "334/334 - 125s - loss: 0.2971 - accuracy: 0.8930 - val_loss: 0.2980 - val_accuracy: 0.8902 - lr: 9.5000e-04 - 125s/epoch - 374ms/step\n",
            "Epoch 3/10\n",
            "334/334 - 124s - loss: 0.2394 - accuracy: 0.9126 - val_loss: 0.2900 - val_accuracy: 0.8976 - lr: 9.0250e-04 - 124s/epoch - 372ms/step\n",
            "Epoch 4/10\n",
            "334/334 - 124s - loss: 0.1892 - accuracy: 0.9294 - val_loss: 0.2785 - val_accuracy: 0.8995 - lr: 8.5737e-04 - 124s/epoch - 373ms/step\n",
            "Epoch 5/10\n",
            "334/334 - 124s - loss: 0.1533 - accuracy: 0.9428 - val_loss: 0.2699 - val_accuracy: 0.9074 - lr: 8.1451e-04 - 124s/epoch - 373ms/step\n",
            "Epoch 6/10\n",
            "334/334 - 125s - loss: 0.1218 - accuracy: 0.9554 - val_loss: 0.3057 - val_accuracy: 0.8984 - lr: 7.7378e-04 - 125s/epoch - 375ms/step\n",
            "Epoch 7/10\n",
            "334/334 - 127s - loss: 0.0946 - accuracy: 0.9651 - val_loss: 0.3084 - val_accuracy: 0.9034 - lr: 7.3509e-04 - 127s/epoch - 380ms/step\n",
            "Epoch 8/10\n",
            "334/334 - 125s - loss: 0.0714 - accuracy: 0.9744 - val_loss: 0.3130 - val_accuracy: 0.9060 - lr: 6.9834e-04 - 125s/epoch - 375ms/step\n",
            "Epoch 9/10\n",
            "334/334 - 124s - loss: 0.0551 - accuracy: 0.9802 - val_loss: 0.3460 - val_accuracy: 0.9049 - lr: 6.6342e-04 - 124s/epoch - 372ms/step\n",
            "Epoch 10/10\n",
            "334/334 - 125s - loss: 0.0401 - accuracy: 0.9871 - val_loss: 0.3571 - val_accuracy: 0.9100 - lr: 6.3025e-04 - 125s/epoch - 376ms/step\n",
            "Epoch 1/10\n",
            "334/334 - 122s - loss: 0.2146 - accuracy: 0.9265 - val_loss: 0.1268 - val_accuracy: 0.9541 - lr: 0.0010 - 122s/epoch - 365ms/step\n",
            "Epoch 2/10\n",
            "334/334 - 123s - loss: 0.1258 - accuracy: 0.9560 - val_loss: 0.0854 - val_accuracy: 0.9695 - lr: 9.5000e-04 - 123s/epoch - 369ms/step\n",
            "Epoch 3/10\n",
            "334/334 - 122s - loss: 0.0827 - accuracy: 0.9699 - val_loss: 0.0811 - val_accuracy: 0.9710 - lr: 9.0250e-04 - 122s/epoch - 366ms/step\n",
            "Epoch 4/10\n",
            "334/334 - 122s - loss: 0.0542 - accuracy: 0.9814 - val_loss: 0.0869 - val_accuracy: 0.9671 - lr: 8.5737e-04 - 122s/epoch - 366ms/step\n",
            "Epoch 5/10\n",
            "334/334 - 124s - loss: 0.0376 - accuracy: 0.9871 - val_loss: 0.0986 - val_accuracy: 0.9626 - lr: 8.1451e-04 - 124s/epoch - 370ms/step\n",
            "Epoch 6/10\n",
            "334/334 - 122s - loss: 0.0290 - accuracy: 0.9906 - val_loss: 0.0807 - val_accuracy: 0.9706 - lr: 7.7378e-04 - 122s/epoch - 367ms/step\n",
            "Epoch 7/10\n",
            "334/334 - 122s - loss: 0.0197 - accuracy: 0.9939 - val_loss: 0.0883 - val_accuracy: 0.9688 - lr: 7.3509e-04 - 122s/epoch - 366ms/step\n",
            "Epoch 8/10\n",
            "334/334 - 122s - loss: 0.0118 - accuracy: 0.9970 - val_loss: 0.1177 - val_accuracy: 0.9608 - lr: 6.9834e-04 - 122s/epoch - 367ms/step\n",
            "Epoch 9/10\n",
            "334/334 - 122s - loss: 0.0092 - accuracy: 0.9973 - val_loss: 0.0971 - val_accuracy: 0.9681 - lr: 6.6342e-04 - 122s/epoch - 366ms/step\n",
            "Epoch 10/10\n",
            "334/334 - 123s - loss: 0.0082 - accuracy: 0.9978 - val_loss: 0.0980 - val_accuracy: 0.9686 - lr: 6.3025e-04 - 123s/epoch - 368ms/step\n",
            "Epoch 1/10\n",
            "334/334 - 120s - loss: 0.1328 - accuracy: 0.9529 - val_loss: 0.0531 - val_accuracy: 0.9824 - lr: 0.0010 - 120s/epoch - 359ms/step\n",
            "Epoch 2/10\n",
            "334/334 - 118s - loss: 0.0551 - accuracy: 0.9813 - val_loss: 0.0629 - val_accuracy: 0.9777 - lr: 9.5000e-04 - 118s/epoch - 353ms/step\n",
            "Epoch 3/10\n",
            "334/334 - 119s - loss: 0.0288 - accuracy: 0.9903 - val_loss: 0.0399 - val_accuracy: 0.9863 - lr: 9.0250e-04 - 119s/epoch - 357ms/step\n",
            "Epoch 4/10\n",
            "334/334 - 120s - loss: 0.0159 - accuracy: 0.9955 - val_loss: 0.0350 - val_accuracy: 0.9875 - lr: 8.5737e-04 - 120s/epoch - 359ms/step\n",
            "Epoch 5/10\n",
            "334/334 - 120s - loss: 0.0092 - accuracy: 0.9976 - val_loss: 0.0318 - val_accuracy: 0.9879 - lr: 8.1451e-04 - 120s/epoch - 359ms/step\n",
            "Epoch 6/10\n",
            "334/334 - 119s - loss: 0.0082 - accuracy: 0.9974 - val_loss: 0.0293 - val_accuracy: 0.9897 - lr: 7.7378e-04 - 119s/epoch - 355ms/step\n",
            "Epoch 7/10\n",
            "334/334 - 119s - loss: 0.0028 - accuracy: 0.9994 - val_loss: 0.0235 - val_accuracy: 0.9913 - lr: 7.3509e-04 - 119s/epoch - 357ms/step\n",
            "Epoch 8/10\n",
            "334/334 - 122s - loss: 0.0015 - accuracy: 0.9998 - val_loss: 0.0158 - val_accuracy: 0.9942 - lr: 6.9834e-04 - 122s/epoch - 365ms/step\n",
            "Epoch 9/10\n",
            "334/334 - 121s - loss: 4.4025e-04 - accuracy: 1.0000 - val_loss: 0.0153 - val_accuracy: 0.9948 - lr: 6.6342e-04 - 121s/epoch - 361ms/step\n",
            "Epoch 10/10\n",
            "334/334 - 119s - loss: 2.9980e-04 - accuracy: 1.0000 - val_loss: 0.0161 - val_accuracy: 0.9942 - lr: 6.3025e-04 - 119s/epoch - 356ms/step\n",
            "CNN 2048N: Epochs=10, Train accuracy=1.00000, Validation accuracy=0.99475\n"
          ]
        },
        {
          "data": {
            "image/png": "[encoded data removed]",
            "text/plain": [
              "<Figure size 1500x500 with 1 Axes>"
            ]
          },
          "metadata": {},
          "output_type": "display_data"
        }
      ],
      "source": [
        "names = [\"0N\",\"32N\",\"64N\",\"128N\",\"256N\",\"512N\",\"1024N\",\"2048N\"]\n",
        "avalia_calibracao(names)"
      ]
    },
    {
      "cell_type": "markdown",
      "metadata": {
        "id": "-jHYgrtF-Lwz"
      },
      "source": [
        "A partir do gráfico acima, infere-se que a quantidade de neurônios na camada densa que obteve o melhor desempenho foi 2048. Entretanto, será escolhido 512 neurônios para a camada densa, pois acredita-se que o ganho de desempenho em relação à 2048 neurônios não compensa o custo computacional. Sendo assim, essa configuração será mantida nos próximos testes."
      ]
    },
    {
      "cell_type": "markdown",
      "metadata": {
        "id": "ZejG5yuQBPn7"
      },
      "source": [
        "## Droupout"
      ]
    },
    {
      "cell_type": "markdown",
      "metadata": {
        "id": "0C_x39af595y"
      },
      "source": [
        "Referência:\n",
        "\n",
        "*   Conceituação - https://www.deeplearningbook.com.br/capitulo-23-como-funciona-o-dropout/\n",
        "*   Código -\n",
        "\n"
      ]
    },
    {
      "cell_type": "code",
      "execution_count": null,
      "metadata": {
        "id": "T-uysyXdjZWP"
      },
      "outputs": [],
      "source": [
        "from google.colab import drive\n",
        "drive.mount('/content/drive')"
      ]
    },
    {
      "cell_type": "markdown",
      "metadata": {
        "id": "Do0IzLnU17kI"
      },
      "source": [
        "O dropout é uma técnica de regularização amplamente empregada no treinamento de redes neurais, ele tem como propósito evitar o overfitting no modelo, isto é, ele evita o fenômeno no qual o modelo se ajusta excessivamente aos dados de treinamento, a fim de gerar melhores generalização para novos dados.\n",
        "Durante o treinamento com dropout, neurônios das camadas ocultas são selecionadas aleatoriamente e temporariamente inativados, implicando na remoção temporária de suas contribuições para a propagação de sinais e atualização de pesos."
      ]
    },
    {
      "cell_type": "markdown",
      "metadata": {
        "id": "0nG3JMgQ4fRa"
      },
      "source": [
        "![image.png](data:image/png;base64,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)"
      ]
    },
    {
      "cell_type": "markdown",
      "metadata": {
        "id": "VVLggjCY3FPe"
      },
      "source": [
        "Essa abordagem auxilia na redução da coadaptação entre neurônios, incentivando a rede neural a aprender características mais robustas e independentes dos dados de treinamento."
      ]
    },
    {
      "cell_type": "code",
      "execution_count": null,
      "metadata": {
        "id": "tQfxaExWBR3U"
      },
      "outputs": [],
      "source": [
        "# Construção das redes neurais convolucionais que serão comparadas\n",
        "# Serão comparadas 8 configurações de modelo, em que cada uma possui as seguintes porcentagens\n",
        "# de dropout: 0%, 10%, 20%, 30%, 40%, 50%, 60%, 70%\n",
        "\n",
        "nets = 8\n",
        "model = [0] *nets\n",
        "\n",
        "\n",
        "for j in range(8): # o modelo j vai ter um dropout de (j*0.1)% ao final de cada camada\n",
        "    model[j] = Sequential()\n",
        "    model[j].add(Conv2D(64,kernel_size=5,activation='relu',input_shape=(28,28,1), strides=1, kernel_initializer='he_uniform', padding='same'))\n",
        "    model[j].add(MaxPool2D())\n",
        "    model[j].add(Dropout(j*0.1))\n",
        "    model[j].add(Flatten())\n",
        "    model[j].add(Dense(512, activation='relu', kernel_initializer='he_uniform'))\n",
        "    model[j].add(Dropout(j*0.1))\n",
        "    model[j].add(Dense(10, activation='softmax'))\n",
        "    model[j].compile(optimizer=\"adam\", loss=\"categorical_crossentropy\", metrics=[\"accuracy\"])"
      ]
    },
    {
      "cell_type": "code",
      "execution_count": null,
      "metadata": {
        "id": "tqGC8bHDTZO3"
      },
      "outputs": [],
      "source": [
        "names = [\"D=0.0\",\"D=0.1\",\"D=0.2\",\"D=0.3\",\"D=0.4\",\"D=0.5\",\"D=0.6\",\"D=0.7\"]\n",
        "avalia_calibracao(names)"
      ]
    },
    {
      "cell_type": "markdown",
      "metadata": {
        "id": "hPZO_PeMw1BO"
      },
      "source": [
        "A partir do gráfico acima, infere-se que a porcentagem de dropout que obteve o melhor desempenho foi 30%. Sendo assim, essa configuração será mantida nos próximos testes."
      ]
    },
    {
      "cell_type": "markdown",
      "metadata": {
        "id": "At2AqvO_BSvx"
      },
      "source": [
        "## Batch normalization"
      ]
    },
    {
      "cell_type": "markdown",
      "metadata": {
        "id": "b0Qg280VE73G"
      },
      "source": [
        "A normalização em lote ajuda a lidar com problemas de covariância interna, em que as distribuições das ativações mudam à medida que os parâmetros da rede são atualizados, dificultando o treinamento. Ao estabilizar as ativações, ele permite o uso de taxas de aprendizado mais altas, ajudando a rede generalizar-se melhor para os dados."
      ]
    },
    {
      "cell_type": "code",
      "execution_count": null,
      "metadata": {
        "id": "UUH2_x82BUfK"
      },
      "outputs": [],
      "source": [
        "# Construção das redes neurais convolucionais que serão comparadas\n",
        "# Será comparado duas configurações de modelos, em que a primeira não utiliza a técnica Batch Normalization,\n",
        "# e a segunda a implementa\n",
        "\n",
        "nets = 2\n",
        "model = [0] *nets\n",
        "\n",
        "# modelo basico\n",
        "j=0\n",
        "model[j] = Sequential()\n",
        "model[j].add(Conv2D(64,kernel_size=5,activation='relu',input_shape=(28,28,1), strides=1, kernel_initializer='he_uniform', padding='same'))\n",
        "model[j].add(MaxPool2D())\n",
        "model[j].add(Dropout(0.3))\n",
        "model[j].add(Flatten())\n",
        "model[j].add(Dense(512, activation='relu', kernel_initializer='he_uniform'))\n",
        "model[j].add(Dropout(0.3))\n",
        "model[j].add(Dense(10, activation='softmax'))\n",
        "model[j].compile(optimizer=\"adam\", loss=\"categorical_crossentropy\", metrics=[\"accuracy\"])\n",
        "\n",
        "# batch normalization\n",
        "j=1\n",
        "model[j] = Sequential()\n",
        "model[j].add(Conv2D(64,kernel_size=5,activation='relu',input_shape=(28,28,1), strides=1, kernel_initializer='he_uniform', padding='same'))\n",
        "model[j].add(BatchNormalization())\n",
        "model[j].add(MaxPool2D())\n",
        "model[j].add(Dropout(0.3))\n",
        "model[j].add(Flatten())\n",
        "model[j].add(Dense(512, activation='relu', kernel_initializer='he_uniform'))\n",
        "model[j].add(BatchNormalization())\n",
        "model[j].add(Dropout(0.3))\n",
        "model[j].add(Dense(10, activation='softmax'))\n",
        "model[j].compile(optimizer=\"adam\", loss=\"categorical_crossentropy\", metrics=[\"accuracy\"])"
      ]
    },
    {
      "cell_type": "code",
      "execution_count": null,
      "metadata": {
        "id": "LtnZxr2BL0Vd"
      },
      "outputs": [],
      "source": [
        "names = [\"basic\",\"basic+BN\"]\n",
        "avalia_calibracao(names)"
      ]
    },
    {
      "cell_type": "markdown",
      "metadata": {
        "id": "HRbfX9gv1hvg"
      },
      "source": [
        "A partir do gráfico acima, infere-se que a utilização da técnica Batch Normalization resultou em uma perda de desempenho. Portanto, ela não será utilizada na configuração futura."
      ]
    },
    {
      "cell_type": "markdown",
      "metadata": {
        "id": "ua6hGULXBVBF"
      },
      "source": [
        "## Data Augmentation"
      ]
    },
    {
      "cell_type": "markdown",
      "metadata": {
        "id": "GnKKFr53GDXD"
      },
      "source": [
        "Data augmentation é uma prática empregada com o intuito de ampliar o tamanho e a diversidade do conjunto de dados de treinamento para resultar em um melhor desempenho do modelo.\n",
        "Utilizando dos dados de treinamento, ele aplica transformações aleatórias aos dados existentes, gerando exemplos adicionais que possuem semelhanças, mas também diferem dos exemplos originais."
      ]
    },
    {
      "cell_type": "markdown",
      "metadata": {
        "id": "YDF6tkQRHVrj"
      },
      "source": [
        "Alguns exemplos de tranformações que são possíveis de obter atráves do Data Augmentation são: rotação, espelhamento, translação, zoom, ajuste de brilho e outros.\n",
        "Ao introduzir essas transformações, aumenta-se a variabilidade dos dados de treinamento, possibilitando que o modelo generalize mais eficazmente para diferentes condições e variações encontradas nos dados de teste."
      ]
    },
    {
      "cell_type": "code",
      "execution_count": null,
      "metadata": {
        "id": "bO2tMHsXBXTV"
      },
      "outputs": [],
      "source": [
        "# Construção das redes neurais convolucionais que serão comparadas\n",
        "# Será comparado duas configurações de modelos, em que o primeiro não utiliza a ténica Data Augmentation\n",
        "# e a segunda a implementa\n",
        "\n",
        "nets = 2\n",
        "model = [0] *nets\n",
        "\n",
        "# modelo basico\n",
        "j=0\n",
        "model[j] = Sequential()\n",
        "model[j].add(Conv2D(64,kernel_size=5,activation='relu',input_shape=(28,28,1), strides=1, kernel_initializer='he_uniform', padding='same'))\n",
        "model[j].add(MaxPool2D())\n",
        "model[j].add(Dropout(0.3))\n",
        "model[j].add(Flatten())\n",
        "model[j].add(Dense(512, activation='relu', kernel_initializer='he_uniform'))\n",
        "model[j].add(Dropout(0.3))\n",
        "model[j].add(Dense(10, activation='softmax'))\n",
        "model[j].compile(optimizer=\"adam\", loss=\"categorical_crossentropy\", metrics=[\"accuracy\"])\n",
        "\n",
        "# modelo para data augmentation\n",
        "j=1\n",
        "model[j] = Sequential()\n",
        "model[j].add(Conv2D(64,kernel_size=5,activation='relu',input_shape=(28,28,1), strides=1, kernel_initializer='he_uniform', padding='same'))\n",
        "model[j].add(MaxPool2D())\n",
        "model[j].add(Dropout(0.3))\n",
        "model[j].add(Flatten())\n",
        "model[j].add(Dense(512, activation='relu', kernel_initializer='he_uniform'))\n",
        "model[j].add(Dropout(0.3))\n",
        "model[j].add(Dense(10, activation='softmax'))\n",
        "model[j].compile(optimizer=\"adam\", loss=\"categorical_crossentropy\", metrics=[\"accuracy\"])"
      ]
    },
    {
      "cell_type": "markdown",
      "metadata": {
        "id": "tklI4HO_Rmf2"
      },
      "source": [
        "Para fazer a comparação dos dois modelos, foi necessário fazer alterações na função de calibração original. Sendo assim, foi criada a seguinte função que testa e compara 2 configurações de modelos, em que o primeiro não implementa o Data Augmentation, enquanto o segundo implementa:"
      ]
    },
    {
      "cell_type": "code",
      "execution_count": null,
      "metadata": {
        "id": "w0ywrhTY1Jk_"
      },
      "outputs": [],
      "source": [
        "def avalia_calibracao_data_aug(names):\n",
        "\n",
        "\n",
        "    nets = 2 # numero de redes é equivalente aos nomes dados para cada tipo de rede\n",
        "\n",
        "    # CRIAÇÃO DO CONJUNTO DE VALIDAÇÃO APLICANDO A CROSS VALIDATION\n",
        "\n",
        "    X_train2, X_val2, Y_train2, Y_val2 = train_test_split(x_train, y_train, test_size = 0.333)\n",
        "\n",
        "    k_folds = 3 # quantidade de folds\n",
        "\n",
        "    history = [0] * nets * k_folds # quantidade de modelos que serao criados\n",
        "\n",
        "    mean_val_hist = [] # lista que vai armazenar as acuracias medias de cada epoca de um determinada configuracao de modelo\n",
        "\n",
        "    epochs = 10 # quantidade de epocas\n",
        "\n",
        "    kfold = KFold(k_folds, shuffle=True, random_state=1)\n",
        "\n",
        "    curr_model = -1 # numero do modelo atual, que vai de 0 até [(nets * k_folds) - 1]\n",
        "\n",
        "    for config_modelo in range(nets - 1): # iteracao atraves de cada uma das j configuracoes de modelos\n",
        "\n",
        "\n",
        "        curr_mean_val = np.array([0.0] * epochs) # vetor que vai armazenar na posicao \"x\" a soma das (k_folds) acuracias da configuracao (j) que tambem estao na posicao \"x\"\n",
        "\n",
        "      # enumeracao dos k splits\n",
        "        for train_ix, test_ix in kfold.split(X_train2):\n",
        "\n",
        "            curr_model += 1 # numero do modelo atual que sera construido\n",
        "\n",
        "          # select rows for train and test (validation)\n",
        "            trainX, trainY, testX, testY = X_train2[train_ix], Y_train2[train_ix], X_train2[test_ix], Y_train2[test_ix]\n",
        "\n",
        "          # treinamento da rede do modelo atual\n",
        "            history[curr_model] = model[config_modelo].fit(trainX, trainY, batch_size=80, epochs = epochs, validation_data = (testX,testY), callbacks=[annealer], verbose=2)\n",
        "\n",
        "            if ((curr_model + 1) % k_folds) == 0: # terminou de analisar todos os k folds para uma configuracao de modelo, agora é necessário escolher o melhor modelo da configuracao analisada entre os k modelos\n",
        "\n",
        "                total_acc = [] # acuracias obtidas no treino\n",
        "                total_acc_val = [] # acuracias obtidas na validacao\n",
        "\n",
        "                for k in range(k_folds): # vamos voltar para analisar cada um dos modelos criados para a configuracao atual\n",
        "\n",
        "                    total_acc += history[curr_model - k].history['accuracy'] # adiciona todas as acuracias (treinamento) do modelo atual na lista de acuracia da configuracao atual\n",
        "                    total_acc_val += history[curr_model - k].history['val_accuracy'] # adiciona todas as acuracias (validacao) do modelo atual na lista de acuracia da configuracao atrual\n",
        "                    curr_mean_val += np.array(history[curr_model - k].history['val_accuracy']) # incrementa com as metricas de cada modelo\n",
        "\n",
        "                print(\"CNN {0}: Epochs={1:d}, Train accuracy={2:.5f}, Validation accuracy={3:.5f}\".format(\n",
        "                  names[config_modelo],epochs,max(total_acc),max(total_acc_val)))\n",
        "\n",
        "        curr_mean_val  = curr_mean_val / k_folds # divide para calcular a media\n",
        "        curr_mean_val = list(curr_mean_val)\n",
        "        mean_val_hist.append(curr_mean_val)\n",
        "\n",
        "\n",
        "\n",
        "    # CREATE MORE TRAINING IMAGES VIA DATA AUGMENTATION\n",
        "    datagen = ImageDataGenerator(\n",
        "            rotation_range=10,\n",
        "            zoom_range = 0.1,\n",
        "            width_shift_range=0.1,\n",
        "            height_shift_range=0.1)\n",
        "\n",
        "    # CRIAÇÃO DO CONJUNTO DE VALIDAÇÃO APLICANDO A CROSS VALIDATION\n",
        "\n",
        "    #x_train, y_train, x_test, y_test\n",
        "\n",
        "    # nomes de cada configuracao de modelo\n",
        "\n",
        "    config_modelo = 1\n",
        "\n",
        "    curr_mean_val = np.array([0.0] * epochs)\n",
        "\n",
        "    curr_model = 2\n",
        "\n",
        "    # enumeracao dos k splits\n",
        "    for train_ix, test_ix in kfold.split(X_train2):\n",
        "\n",
        "        curr_model += 1 # numero do modelo atual que sera construido\n",
        "\n",
        "        # select rows for train and test (validation)\n",
        "        trainX, trainY, testX, testY = X_train2[train_ix], Y_train2[train_ix], X_train2[test_ix], Y_train2[test_ix]\n",
        "\n",
        "        # treinamento da rede do modelo atual\n",
        "        #history[curr_model] = model[j].fit(trainX, trainY, batch_size=80, epochs = epochs, validation_data = (testX,testY), callbacks=[annealer], verbose=0)\n",
        "\n",
        "        history[curr_model] = model[j].fit(datagen.flow(trainX,trainY, batch_size=64),\n",
        "        epochs = epochs, steps_per_epoch = trainX.shape[0]//64,\n",
        "        validation_data = (testX,testY), callbacks=[annealer], verbose=2)\n",
        "\n",
        "\n",
        "        if ((curr_model + 1) % k_folds) == 0: # terminou de analisar todos os k folds para uma configuracao de modelo, agora é necessário escolher o melhor modelo da configuracao analisada entre os k modelos\n",
        "\n",
        "            total_acc = [] # acuracias obtidas no treino\n",
        "            total_acc_val = [] # acuracias obtidas na validacao\n",
        "\n",
        "            for k in range(k_folds): # vamos voltar para analisar cada um dos modelos criados para a configuracao atual\n",
        "\n",
        "                total_acc += history[curr_model - k].history['accuracy'] # adiciona todas as acuracias (treinamento) do modelo atual na lista de acuracia da configuracao atual\n",
        "                total_acc_val += history[curr_model - k].history['val_accuracy'] # adiciona todas as acuracias (validacao) do modelo atual na lista de acuracia da configuracao atrual\n",
        "                curr_mean_val += np.array(history[curr_model - k].history['val_accuracy']) # incrementa com as metricas de cada modelo\n",
        "\n",
        "            print(\"CNN {0}: Epochs={1:d}, Train accuracy={2:.5f}, Validation accuracy={3:.5f}\".format(\n",
        "                names[j],epochs,max(total_acc),max(total_acc_val)))\n",
        "\n",
        "    curr_mean_val  = curr_mean_val / k_folds # divide para calcular a media\n",
        "    curr_mean_val = list(curr_mean_val)\n",
        "    mean_val_hist.append(curr_mean_val)\n",
        "\n",
        "    # PLOT ACCURACIES\n",
        "    plt.figure(figsize=(15,5))\n",
        "    for i in range(nets):\n",
        "        plt.plot(mean_val_hist[i],linestyle=styles[i])\n",
        "    plt.title('model accuracy')\n",
        "    plt.ylabel('accuracy')\n",
        "    plt.xlabel('epoch')\n",
        "    plt.legend(names, loc='upper left')\n",
        "    plt.show()"
      ]
    },
    {
      "cell_type": "markdown",
      "metadata": {
        "id": "6O5jLmxzR2TF"
      },
      "source": [
        "Por fim, a função criada acima será utilizada:"
      ]
    },
    {
      "cell_type": "code",
      "execution_count": null,
      "metadata": {
        "id": "GJ1m-Hfv1PNs"
      },
      "outputs": [],
      "source": [
        "names = [\"basic\",\"basic+DA\"]\n",
        "avalia_calibracao_data_aug(names)"
      ]
    },
    {
      "cell_type": "markdown",
      "metadata": {
        "id": "_jIegnpD6_xL"
      },
      "source": [
        "A partir do gráfico acima, infere-se que o uso da técnica Data Augmentation resultou em um desempenho inferior em comparação com o modelo base. Portanto, essa técnica não será utilizada para a construção do modelo final."
      ]
    },
    {
      "cell_type": "markdown",
      "metadata": {
        "id": "Hq3D7Vh572RL"
      },
      "source": [
        "# Comparação do modelo base com modelo final"
      ]
    },
    {
      "cell_type": "markdown",
      "metadata": {
        "id": "ySpFv6vkR-h-"
      },
      "source": [
        "Nesta seção será comparado o desempenho do modelo base (inicial) em comparação com o modelo final, que foi obtido a partir dos testes de calibração feitos até então. Como função que instancia o modelo base já foi criada (define_basic_model), será criada uma função que instancia uma configuração do modelo final também:"
      ]
    },
    {
      "cell_type": "code",
      "execution_count": null,
      "metadata": {
        "id": "jlxeZRqI1Jwp"
      },
      "outputs": [],
      "source": [
        "def define_final_model():\n",
        "\n",
        "  model = Sequential()\n",
        "  model.add(Conv2D(64,kernel_size=5,activation='relu',input_shape=(28,28,1), strides=1, kernel_initializer='he_uniform', padding='same'))\n",
        "  model.add(MaxPool2D())\n",
        "  model.add(Dropout(0.3))\n",
        "  model.add(Flatten())\n",
        "  model.add(Dense(512, activation='relu', kernel_initializer='he_uniform'))\n",
        "  model.add(Dropout(0.3))\n",
        "  model.add(Dense(10, activation='softmax'))\n",
        "  model.compile(optimizer=\"adam\", loss=\"categorical_crossentropy\", metrics=[\"accuracy\"])\n",
        "\n",
        "  return model"
      ]
    },
    {
      "cell_type": "markdown",
      "metadata": {
        "id": "g6KD9Uz-SeSc"
      },
      "source": [
        "Agora será feito a comparação entre os 2 modelos."
      ]
    },
    {
      "cell_type": "code",
      "execution_count": null,
      "metadata": {
        "id": "UcIt7ieD-o1r"
      },
      "outputs": [],
      "source": [
        "model = [0] * 2\n",
        "model[0] = define_basic_model()\n",
        "model[1] = define_final_model()"
      ]
    },
    {
      "cell_type": "code",
      "execution_count": null,
      "metadata": {
        "id": "xT-cnJOy1e5D"
      },
      "outputs": [],
      "source": [
        "names = [\"modelo base\",\"modelo final\"]\n",
        "avalia_calibracao(names) # ou outra funcao caso utilizemos o data augmentation"
      ]
    },
    {
      "cell_type": "markdown",
      "metadata": {
        "id": "rjDb6gCbSrET"
      },
      "source": [
        "A partir do gráfico acima, infere-se que ..."
      ]
    },
    {
      "cell_type": "markdown",
      "metadata": {
        "id": "PWcKWMiGSti9"
      },
      "source": [
        "Ainda será feita outra comparação a partir da função run_test:"
      ]
    },
    {
      "cell_type": "code",
      "execution_count": null,
      "metadata": {
        "id": "fy_wV41h1fB0"
      },
      "outputs": [],
      "source": [
        "run_test(define_basic_model())"
      ]
    },
    {
      "cell_type": "code",
      "execution_count": null,
      "metadata": {
        "id": "bh0-skUR1J6g"
      },
      "outputs": [],
      "source": [
        "run_test(define_final_model())"
      ]
    },
    {
      "cell_type": "markdown",
      "metadata": {
        "id": "DYORrLrVTA78"
      },
      "source": [
        "Os gráficos acima permitem inferir que..."
      ]
    },
    {
      "cell_type": "markdown",
      "metadata": {
        "id": "YVOILUBHTFL5"
      },
      "source": [
        "Portanto, conclui-se que o modelo final possui um desempenho significativamente superior em relação ao modelo base. Sendo assim, ele será utilizado para fazer a predição dos dados."
      ]
    },
    {
      "cell_type": "markdown",
      "metadata": {
        "id": "q6qnP3h8TN7q"
      },
      "source": [
        "# Predição"
      ]
    },
    {
      "cell_type": "code",
      "execution_count": null,
      "metadata": {
        "id": "2KMid2u_TADb"
      },
      "outputs": [],
      "source": [
        "# TRAIN OUR BEST NET MORE\n",
        "epochs = 20\n",
        "annealer = LearningRateScheduler(lambda x: 1e-3 * 0.95 ** (x+epochs))\n",
        "\n",
        "model[1].fit(x_train, y_train, batch_size=64, epochs = 25, callbacks=[annealer], steps_per_epoch = x_train.shape[0]//64, verbose=2)\n",
        "\n",
        "#model[4].fit_generator(datagen.flow(X_train,Y_train, batch_size=64), epochs = 25,\n",
        "#    steps_per_epoch = X_train.shape[0]//64, callbacks=[annealer], verbose=0)\n",
        "\n",
        "# SUBMIT TO KAGGLE\n",
        "results = model[1].predict(x_test)\n",
        "results = np.argmax(results,axis = 1)\n",
        "results"
      ]
    },
    {
      "cell_type": "markdown",
      "metadata": {
        "id": "M5MkA-sSU2dm"
      },
      "source": [
        "## Acurácia"
      ]
    },
    {
      "cell_type": "code",
      "execution_count": null,
      "metadata": {
        "id": "s1yTyUxyElF_"
      },
      "outputs": [],
      "source": [
        "y_test = np.argmax(y_test,axis = 1)\n",
        "y_test"
      ]
    },
    {
      "cell_type": "code",
      "execution_count": null,
      "metadata": {
        "id": "hBU4CyT3TQfD"
      },
      "outputs": [],
      "source": [
        "acc = accuracy_score(y_test, results)\n",
        "print(f'Acurácia = {round(acc, 2) * 100}%')"
      ]
    },
    {
      "cell_type": "code",
      "execution_count": null,
      "metadata": {
        "id": "ITSpiryRTQol"
      },
      "outputs": [],
      "source": []
    },
    {
      "cell_type": "code",
      "execution_count": null,
      "metadata": {
        "id": "hIa-twrkTQxd"
      },
      "outputs": [],
      "source": []
    },
    {
      "cell_type": "code",
      "execution_count": null,
      "metadata": {
        "id": "VLK8jNBeTQ3-"
      },
      "outputs": [],
      "source": []
    },
    {
      "cell_type": "code",
      "execution_count": null,
      "metadata": {
        "id": "sPRHQY2VS6R2"
      },
      "outputs": [],
      "source": []
    },
    {
      "cell_type": "code",
      "execution_count": null,
      "metadata": {
        "id": "ntHMFlVSS6XN"
      },
      "outputs": [],
      "source": []
    },
    {
      "cell_type": "code",
      "execution_count": null,
      "metadata": {
        "id": "_VYTja-fBXxa"
      },
      "outputs": [],
      "source": [
        "# VALIDACAO DA REDE BASICA\n",
        "\n",
        "# CRIAÇÃO DO CONJUNTO DE VALIDAÇÃO APLICANDO A CROSS VALIDATION\n",
        "\n",
        "#x_train, y_train, x_test, y_test\n",
        "\n",
        "X_train2, X_val2, Y_train2, Y_val2 = train_test_split(x_train, y_train, test_size = 0.333)\n",
        "\n",
        "k_folds = 3 # quantidade de folds\n",
        "\n",
        "history = [0] * nets * k_folds # quantidade de modelos que serao criados\n",
        "\n",
        "names = [\"basic+BN\"] # nomes de cada configuracao de modelo\n",
        "\n",
        "epochs = 20 # quantidade de epocas\n",
        "\n",
        "kfold = KFold(k_folds, shuffle=True, random_state=1)\n",
        "\n",
        "curr_model = -1 # numero do modelo atual, que vai de 0 até [(nets * k_folds) - 1]\n",
        "\n",
        "for j in range(nets - 1): # iteracao atraves de cada uma das j configuracoes de modelos\n",
        "\n",
        "    # enumeracao dos k splits\n",
        "    for train_ix, test_ix in kfold.split(X_train2):\n",
        "\n",
        "        curr_model += 1 # numero do modelo atual que sera construido\n",
        "\n",
        "        # select rows for train and test (validation)\n",
        "        trainX, trainY, testX, testY = X_train2[train_ix], Y_train2[train_ix], X_train2[test_ix], Y_train2[test_ix]\n",
        "\n",
        "        # treinamento da rede do modelo atual\n",
        "        history[curr_model] = model[j].fit(trainX, trainY, batch_size=80, epochs = epochs, validation_data = (testX,testY), callbacks=[annealer], verbose=0)\n",
        "        # history = model.fit(trainX, trainY, epochs=10, batch_size=32, validation_data=(testX, testY), verbose=0)\n",
        "\n",
        "\n",
        "        if ((curr_model + 1) % k_folds) == 0: # terminou de analisar todos os k folds para uma configuracao de modelo, agora é necessário escolher o melhor modelo da configuracao analisada entre os k modelos\n",
        "\n",
        "            total_acc = [] # acuracias obtidas no treino\n",
        "            total_acc_val = [] # acuracias obtidas na validacao\n",
        "\n",
        "            for k in range(k_folds): # vamos voltar para analisar cada um dos modelos criados para a configuracao atual\n",
        "\n",
        "                total_acc += history[curr_model - k].history['accuracy'] # adiciona todas as acuracias (treinamento) do modelo atual na lista de acuracia da configuracao atual\n",
        "                total_acc_val += history[curr_model - k].history['val_accuracy'] # adiciona todas as acuracias (validacao) do modelo atual na lista de acuracia da configuracao atrual\n",
        "\n",
        "            print(\"CNN {0}: Epochs={1:d}, Train accuracy={2:.5f}, Validation accuracy={3:.5f}\".format(\n",
        "                names[j],epochs,max(total_acc),max(total_acc_val)))"
      ]
    },
    {
      "cell_type": "code",
      "execution_count": null,
      "metadata": {
        "id": "Q_mNfr0CP-tv"
      },
      "outputs": [],
      "source": [
        "# VALIDACAO DA REDE COM DATA AUGMENTATION\n",
        "\n",
        "# CREATE MORE TRAINING IMAGES VIA DATA AUGMENTATION\n",
        "datagen = ImageDataGenerator(\n",
        "        rotation_range=10,\n",
        "        zoom_range = 0.1,\n",
        "        width_shift_range=0.1,\n",
        "        height_shift_range=0.1)\n",
        "\n",
        "# CRIAÇÃO DO CONJUNTO DE VALIDAÇÃO APLICANDO A CROSS VALIDATION\n",
        "\n",
        "#x_train, y_train, x_test, y_test\n",
        "\n",
        "names = [\"basic+BN+DA\"] # nomes de cada configuracao de modelo\n",
        "\n",
        "epochs = 20 # quantidade de epocas\n",
        "\n",
        "kfold = KFold(k_folds, shuffle=True, random_state=1)\n",
        "\n",
        "j = nets-1\n",
        "\n",
        "# enumeracao dos k splits\n",
        "for train_ix, test_ix in kfold.split(X_train2):\n",
        "\n",
        "    curr_model += 1 # numero do modelo atual que sera construido\n",
        "\n",
        "    # select rows for train and test (validation)\n",
        "    trainX, trainY, testX, testY = X_train2[train_ix], Y_train2[train_ix], X_train2[test_ix], Y_train2[test_ix]\n",
        "\n",
        "    # treinamento da rede do modelo atual\n",
        "    history[curr_model] = model[j].fit(trainX, trainY, batch_size=80, epochs = epochs, validation_data = (testX,testY), callbacks=[annealer], verbose=0)\n",
        "    # history = model.fit(trainX, trainY, epochs=10, batch_size=32, validation_data=(testX, testY), verbose=0)\n",
        "\n",
        "\n",
        "    if ((curr_model + 1) % k_folds) == 0: # terminou de analisar todos os k folds para uma configuracao de modelo, agora é necessário escolher o melhor modelo da configuracao analisada entre os k modelos\n",
        "\n",
        "        total_acc = [] # acuracias obtidas no treino\n",
        "        total_acc_val = [] # acuracias obtidas na validacao\n",
        "\n",
        "        for k in range(k_folds): # vamos voltar para analisar cada um dos modelos criados para a configuracao atual\n",
        "\n",
        "            total_acc += history[curr_model - k].history['accuracy'] # adiciona todas as acuracias (treinamento) do modelo atual na lista de acuracia da configuracao atual\n",
        "            total_acc_val += history[curr_model - k].history['val_accuracy'] # adiciona todas as acuracias (validacao) do modelo atual na lista de acuracia da configuracao atrual\n",
        "\n",
        "        print(\"CNN {0}: Epochs={1:d}, Train accuracy={2:.5f}, Validation accuracy={3:.5f}\".format(\n",
        "            names[j],epochs,max(total_acc),max(total_acc_val)))\n",
        "\n"
      ]
    },
    {
      "cell_type": "code",
      "execution_count": null,
      "metadata": {
        "id": "6Lw-jez6PjRF"
      },
      "outputs": [],
      "source": [
        "# PLOT ACCURACIES\n",
        "plt.figure(figsize=(15,5))\n",
        "for i in range(nets):\n",
        "    plt.plot(history[i].history['val_acc'],linestyle=styles[i])\n",
        "plt.title('model accuracy')\n",
        "plt.ylabel('accuracy')\n",
        "plt.xlabel('epoch')\n",
        "plt.legend(names, loc='upper left')\n",
        "#axes = plt.gca()\n",
        "#axes.set_ylim([0.98,1])\n",
        "plt.show()"
      ]
    },
    {
      "cell_type": "markdown",
      "metadata": {
        "id": "_zmjuSt6Iyan"
      },
      "source": [
        "# Considerações Finais"
      ]
    },
    {
      "cell_type": "markdown",
      "metadata": {
        "id": "gFHnWzfFI5H4"
      },
      "source": [
        "D, E e F"
      ]
    }
  ],
  "metadata": {
    "colab": {
      "provenance": []
    },
    "kernelspec": {
      "display_name": "Python 3",
      "name": "python3"
    },
    "language_info": {
      "name": "python"
    }
  },
  "nbformat": 4,
  "nbformat_minor": 0
}
