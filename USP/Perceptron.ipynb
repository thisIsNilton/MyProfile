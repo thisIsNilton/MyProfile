{
  "cells": [
    {
      "cell_type": "markdown",
      "metadata": {
        "id": "fkrT8tR4WaLt"
      },
      "source": [
        "# Importação de bibliotecas"
      ]
    },
    {
      "cell_type": "code",
      "execution_count": null,
      "metadata": {
        "id": "NAuRvMWz0d_N"
      },
      "outputs": [],
      "source": [
        "import numpy as np\n",
        "import pandas as pd"
      ]
    },
    {
      "cell_type": "markdown",
      "metadata": {
        "id": "STpti71xWvoV"
      },
      "source": [
        "# Conjunto de dados OR"
      ]
    },
    {
      "cell_type": "markdown",
      "metadata": {
        "id": "EWwSou1WW0QO"
      },
      "source": [
        "Nesta seção, será o Perceptron será aplicado para o conjunto de dados que implementa o operador lógico OR."
      ]
    },
    {
      "cell_type": "markdown",
      "metadata": {
        "id": "yNKgbM6gb4Xp"
      },
      "source": [
        "## Implementação do Perceptron"
      ]
    },
    {
      "cell_type": "code",
      "execution_count": null,
      "metadata": {
        "id": "tzEIbzKlTyVG"
      },
      "outputs": [],
      "source": [
        "# Função que faz a predição de acordo com os pesos calculados\n",
        "def predict_or(row, weights): # row é uma linha do conjunto de treino; weights é o valor dos pesos de cada neuronio e do viés theta\n",
        "\n",
        "\tactivation = weights[0] # inicia-se o valor de ativação com theta (que ocupa a primeira posicao do vetor de pesos)\n",
        "\n",
        "\tfor i in range(len(row)-1): # loop atraves de cada xi\n",
        "\n",
        "\t\tactivation += weights[i + 1] * row[i] # Somatório de [pesos\"wi\" * entradas \"xi\"]\n",
        "\n",
        "\t# se o resultado do processamento é maior do que 0, a função retorna 1\n",
        "\t# caso contrário, retorna 0 (o retorno é binário)\n",
        "\treturn 1.0 if activation >= 0.0 else 0.0\n",
        "\n",
        "# Função que estima os pesos a partir no método stochastic gradient descent\n",
        "def train_weights_or(train, l_rate, n_epoch): # l_rate é a taxa de aprendizado definida pelo usuário; n_epoch é a quantidade de épocas\n",
        "\n",
        "\tweights = [0.0 for i in range(len(train[0]))] # pesos inicializados com 0\n",
        "\n",
        "\tprint('pesos iniciais: ' + str(weights))\n",
        "\n",
        "\tfor epoch in range(n_epoch): # loop através da quantidade de vezes que a atualização de pesos será repetida para todas as linhas de treino\n",
        "\n",
        "\t\tsum_error = 0.0 # soma dos erros quadráticos\n",
        "\n",
        "\t\tfor row in train: # loop através de cada linha do conjunto de treinamento\n",
        "\n",
        "\t\t\tprediction = predict_or(row, weights) # retorna a predição do algoritmo para a linha atual do conjunto de treino\n",
        "\n",
        "\t\t\terror = row[-1] - prediction # erro dado pela subtração entre valor real e a predição\n",
        "\n",
        "\t\t\tsum_error += error**2 # soma dos erros quadráticos, função quadrática do erro para criar a parabola que guiará o aperfeiçoamento do algoritmo além de eliminar valores negativos\n",
        "\n",
        "\t\t\tweights[0] = weights[0] + l_rate * error # atualiza o theta\n",
        "\n",
        "\t\t\tfor i in range(len(row)-1): # loop para atualizar os pesos da linha atual\n",
        "\n",
        "\t\t\t\tweights[i + 1] = weights[i + 1] + l_rate * error * row[i] # atualização do peso, dado o novo peso pelo peso atual somado a (taxa aprendizado * erro * a entrada xi)\n",
        "\n",
        "\t\tprint(f'época = {epoch}, erro quadrático = {sum_error:.3f}')\n",
        "\n",
        "\tprint('pesos finais: ' + str(weights))\n",
        "\treturn weights # retorna os pesos\n",
        "\n",
        "# Algoritmo perceptron com stochastic gradient descent\n",
        "def perceptron_or(train, test, l_rate, n_epoch): # recebe conjunto de treinamento (train) e teste (teste), taxa de apendizado (l_rate) e quantas vezes o algoritmo de atualizações dos pesos será repetido (n_epoch)\n",
        "\n",
        "\tpredictions = list() # lista das predições finais\n",
        "\n",
        "\tweights = train_weights_or(train, l_rate, n_epoch) # pesos escolhidos a partir da função train_weights\n",
        "\n",
        "\tfor row in test: # loop através de cada linha de teste, com os pesos já definidos\n",
        "\n",
        "\t\tprediction = predict_or(row, weights) # faz a predição de acordo com os pesos definidos\n",
        "\t\tpredictions.append(prediction) # adiciona a predição  na lista de predições\n",
        "\n",
        "\treturn predictions # retorna lista de predições finais"
      ]
    },
    {
      "cell_type": "markdown",
      "metadata": {
        "id": "zfkjpqRKjotj"
      },
      "source": [
        "## Dataframe"
      ]
    },
    {
      "cell_type": "markdown",
      "metadata": {
        "id": "426_k74PXKLR"
      },
      "source": [
        "Nesta parte será criado o dataframe que contém a relação entre entradas e saídas para o operador OR."
      ]
    },
    {
      "cell_type": "code",
      "execution_count": null,
      "metadata": {
        "id": "Q1X047mq-vaG"
      },
      "outputs": [],
      "source": [
        "data = {'X1': [0, 0, 1, 1], 'X2': [0,1,0,1], 'Y': [0, 1, 1, 1]} # dados da relação\n",
        "df = pd.DataFrame(data=data) # criação do dataframe"
      ]
    },
    {
      "cell_type": "code",
      "execution_count": null,
      "metadata": {
        "colab": {
          "base_uri": "https://localhost:8080/",
          "height": 175
        },
        "id": "EtOwQOm8D2FB",
        "outputId": "c81ad65d-b46a-4c2f-85f5-bb083cb2e80f"
      },
      "outputs": [
        {
          "data": {
            "text/html": [
              "\n",
              "  <div id=\"df-1715f312-65c1-46a5-8770-10ab9945c362\">\n",
              "    <div class=\"colab-df-container\">\n",
              "      <div>\n",
              "<style scoped>\n",
              "    .dataframe tbody tr th:only-of-type {\n",
              "        vertical-align: middle;\n",
              "    }\n",
              "\n",
              "    .dataframe tbody tr th {\n",
              "        vertical-align: top;\n",
              "    }\n",
              "\n",
              "    .dataframe thead th {\n",
              "        text-align: right;\n",
              "    }\n",
              "</style>\n",
              "<table border=\"1\" class=\"dataframe\">\n",
              "  <thead>\n",
              "    <tr style=\"text-align: right;\">\n",
              "      <th></th>\n",
              "      <th>X1</th>\n",
              "      <th>X2</th>\n",
              "      <th>Y</th>\n",
              "    </tr>\n",
              "  </thead>\n",
              "  <tbody>\n",
              "    <tr>\n",
              "      <th>0</th>\n",
              "      <td>0</td>\n",
              "      <td>0</td>\n",
              "      <td>0</td>\n",
              "    </tr>\n",
              "    <tr>\n",
              "      <th>1</th>\n",
              "      <td>0</td>\n",
              "      <td>1</td>\n",
              "      <td>1</td>\n",
              "    </tr>\n",
              "    <tr>\n",
              "      <th>2</th>\n",
              "      <td>1</td>\n",
              "      <td>0</td>\n",
              "      <td>1</td>\n",
              "    </tr>\n",
              "    <tr>\n",
              "      <th>3</th>\n",
              "      <td>1</td>\n",
              "      <td>1</td>\n",
              "      <td>1</td>\n",
              "    </tr>\n",
              "  </tbody>\n",
              "</table>\n",
              "</div>\n",
              "      <button class=\"colab-df-convert\" onclick=\"convertToInteractive('df-1715f312-65c1-46a5-8770-10ab9945c362')\"\n",
              "              title=\"Convert this dataframe to an interactive table.\"\n",
              "              style=\"display:none;\">\n",
              "        \n",
              "  <svg xmlns=\"http://www.w3.org/2000/svg\" height=\"24px\"viewBox=\"0 0 24 24\"\n",
              "       width=\"24px\">\n",
              "    <path d=\"M0 0h24v24H0V0z\" fill=\"none\"/>\n",
              "    <path d=\"M18.56 5.44l.94 2.06.94-2.06 2.06-.94-2.06-.94-.94-2.06-.94 2.06-2.06.94zm-11 1L8.5 8.5l.94-2.06 2.06-.94-2.06-.94L8.5 2.5l-.94 2.06-2.06.94zm10 10l.94 2.06.94-2.06 2.06-.94-2.06-.94-.94-2.06-.94 2.06-2.06.94z\"/><path d=\"M17.41 7.96l-1.37-1.37c-.4-.4-.92-.59-1.43-.59-.52 0-1.04.2-1.43.59L10.3 9.45l-7.72 7.72c-.78.78-.78 2.05 0 2.83L4 21.41c.39.39.9.59 1.41.59.51 0 1.02-.2 1.41-.59l7.78-7.78 2.81-2.81c.8-.78.8-2.07 0-2.86zM5.41 20L4 18.59l7.72-7.72 1.47 1.35L5.41 20z\"/>\n",
              "  </svg>\n",
              "      </button>\n",
              "      \n",
              "  <style>\n",
              "    .colab-df-container {\n",
              "      display:flex;\n",
              "      flex-wrap:wrap;\n",
              "      gap: 12px;\n",
              "    }\n",
              "\n",
              "    .colab-df-convert {\n",
              "      background-color: #E8F0FE;\n",
              "      border: none;\n",
              "      border-radius: 50%;\n",
              "      cursor: pointer;\n",
              "      display: none;\n",
              "      fill: #1967D2;\n",
              "      height: 32px;\n",
              "      padding: 0 0 0 0;\n",
              "      width: 32px;\n",
              "    }\n",
              "\n",
              "    .colab-df-convert:hover {\n",
              "      background-color: #E2EBFA;\n",
              "      box-shadow: 0px 1px 2px rgba(60, 64, 67, 0.3), 0px 1px 3px 1px rgba(60, 64, 67, 0.15);\n",
              "      fill: #174EA6;\n",
              "    }\n",
              "\n",
              "    [theme=dark] .colab-df-convert {\n",
              "      background-color: #3B4455;\n",
              "      fill: #D2E3FC;\n",
              "    }\n",
              "\n",
              "    [theme=dark] .colab-df-convert:hover {\n",
              "      background-color: #434B5C;\n",
              "      box-shadow: 0px 1px 3px 1px rgba(0, 0, 0, 0.15);\n",
              "      filter: drop-shadow(0px 1px 2px rgba(0, 0, 0, 0.3));\n",
              "      fill: #FFFFFF;\n",
              "    }\n",
              "  </style>\n",
              "\n",
              "      <script>\n",
              "        const buttonEl =\n",
              "          document.querySelector('#df-1715f312-65c1-46a5-8770-10ab9945c362 button.colab-df-convert');\n",
              "        buttonEl.style.display =\n",
              "          google.colab.kernel.accessAllowed ? 'block' : 'none';\n",
              "\n",
              "        async function convertToInteractive(key) {\n",
              "          const element = document.querySelector('#df-1715f312-65c1-46a5-8770-10ab9945c362');\n",
              "          const dataTable =\n",
              "            await google.colab.kernel.invokeFunction('convertToInteractive',\n",
              "                                                     [key], {});\n",
              "          if (!dataTable) return;\n",
              "\n",
              "          const docLinkHtml = 'Like what you see? Visit the ' +\n",
              "            '<a target=\"_blank\" href=https://colab.research.google.com/notebooks/data_table.ipynb>data table notebook</a>'\n",
              "            + ' to learn more about interactive tables.';\n",
              "          element.innerHTML = '';\n",
              "          dataTable['output_type'] = 'display_data';\n",
              "          await google.colab.output.renderOutput(dataTable, element);\n",
              "          const docLink = document.createElement('div');\n",
              "          docLink.innerHTML = docLinkHtml;\n",
              "          element.appendChild(docLink);\n",
              "        }\n",
              "      </script>\n",
              "    </div>\n",
              "  </div>\n",
              "  "
            ],
            "text/plain": [
              "   X1  X2  Y\n",
              "0   0   0  0\n",
              "1   0   1  1\n",
              "2   1   0  1\n",
              "3   1   1  1"
            ]
          },
          "execution_count": 4,
          "metadata": {},
          "output_type": "execute_result"
        }
      ],
      "source": [
        "df"
      ]
    },
    {
      "cell_type": "markdown",
      "metadata": {
        "id": "vJQXWcPkCpPH"
      },
      "source": [
        "## Conjunto de treinamento"
      ]
    },
    {
      "cell_type": "markdown",
      "metadata": {
        "id": "tHLNhVhWXTEi"
      },
      "source": [
        "A seguir será definido qual é o conjunto de treinamento para o Perceptron. Neste caso, o conjunto será todo o dataframe construído anteriormente.  "
      ]
    },
    {
      "cell_type": "code",
      "execution_count": null,
      "metadata": {
        "id": "rL3d5ShGXknT"
      },
      "outputs": [],
      "source": [
        "treino = df.copy() # conjunto de treinamento recebe uma copia do dataframe original"
      ]
    },
    {
      "cell_type": "code",
      "execution_count": null,
      "metadata": {
        "colab": {
          "base_uri": "https://localhost:8080/",
          "height": 175
        },
        "id": "zxRE4RODXmU-",
        "outputId": "cf2206f2-769f-40eb-eebb-0d98343f2b7a"
      },
      "outputs": [
        {
          "data": {
            "text/html": [
              "\n",
              "  <div id=\"df-cd0b79bc-4eb8-4fe4-b94f-5b1d63010b9b\">\n",
              "    <div class=\"colab-df-container\">\n",
              "      <div>\n",
              "<style scoped>\n",
              "    .dataframe tbody tr th:only-of-type {\n",
              "        vertical-align: middle;\n",
              "    }\n",
              "\n",
              "    .dataframe tbody tr th {\n",
              "        vertical-align: top;\n",
              "    }\n",
              "\n",
              "    .dataframe thead th {\n",
              "        text-align: right;\n",
              "    }\n",
              "</style>\n",
              "<table border=\"1\" class=\"dataframe\">\n",
              "  <thead>\n",
              "    <tr style=\"text-align: right;\">\n",
              "      <th></th>\n",
              "      <th>X1</th>\n",
              "      <th>X2</th>\n",
              "      <th>Y</th>\n",
              "    </tr>\n",
              "  </thead>\n",
              "  <tbody>\n",
              "    <tr>\n",
              "      <th>0</th>\n",
              "      <td>0</td>\n",
              "      <td>0</td>\n",
              "      <td>0</td>\n",
              "    </tr>\n",
              "    <tr>\n",
              "      <th>1</th>\n",
              "      <td>0</td>\n",
              "      <td>1</td>\n",
              "      <td>1</td>\n",
              "    </tr>\n",
              "    <tr>\n",
              "      <th>2</th>\n",
              "      <td>1</td>\n",
              "      <td>0</td>\n",
              "      <td>1</td>\n",
              "    </tr>\n",
              "    <tr>\n",
              "      <th>3</th>\n",
              "      <td>1</td>\n",
              "      <td>1</td>\n",
              "      <td>1</td>\n",
              "    </tr>\n",
              "  </tbody>\n",
              "</table>\n",
              "</div>\n",
              "      <button class=\"colab-df-convert\" onclick=\"convertToInteractive('df-cd0b79bc-4eb8-4fe4-b94f-5b1d63010b9b')\"\n",
              "              title=\"Convert this dataframe to an interactive table.\"\n",
              "              style=\"display:none;\">\n",
              "        \n",
              "  <svg xmlns=\"http://www.w3.org/2000/svg\" height=\"24px\"viewBox=\"0 0 24 24\"\n",
              "       width=\"24px\">\n",
              "    <path d=\"M0 0h24v24H0V0z\" fill=\"none\"/>\n",
              "    <path d=\"M18.56 5.44l.94 2.06.94-2.06 2.06-.94-2.06-.94-.94-2.06-.94 2.06-2.06.94zm-11 1L8.5 8.5l.94-2.06 2.06-.94-2.06-.94L8.5 2.5l-.94 2.06-2.06.94zm10 10l.94 2.06.94-2.06 2.06-.94-2.06-.94-.94-2.06-.94 2.06-2.06.94z\"/><path d=\"M17.41 7.96l-1.37-1.37c-.4-.4-.92-.59-1.43-.59-.52 0-1.04.2-1.43.59L10.3 9.45l-7.72 7.72c-.78.78-.78 2.05 0 2.83L4 21.41c.39.39.9.59 1.41.59.51 0 1.02-.2 1.41-.59l7.78-7.78 2.81-2.81c.8-.78.8-2.07 0-2.86zM5.41 20L4 18.59l7.72-7.72 1.47 1.35L5.41 20z\"/>\n",
              "  </svg>\n",
              "      </button>\n",
              "      \n",
              "  <style>\n",
              "    .colab-df-container {\n",
              "      display:flex;\n",
              "      flex-wrap:wrap;\n",
              "      gap: 12px;\n",
              "    }\n",
              "\n",
              "    .colab-df-convert {\n",
              "      background-color: #E8F0FE;\n",
              "      border: none;\n",
              "      border-radius: 50%;\n",
              "      cursor: pointer;\n",
              "      display: none;\n",
              "      fill: #1967D2;\n",
              "      height: 32px;\n",
              "      padding: 0 0 0 0;\n",
              "      width: 32px;\n",
              "    }\n",
              "\n",
              "    .colab-df-convert:hover {\n",
              "      background-color: #E2EBFA;\n",
              "      box-shadow: 0px 1px 2px rgba(60, 64, 67, 0.3), 0px 1px 3px 1px rgba(60, 64, 67, 0.15);\n",
              "      fill: #174EA6;\n",
              "    }\n",
              "\n",
              "    [theme=dark] .colab-df-convert {\n",
              "      background-color: #3B4455;\n",
              "      fill: #D2E3FC;\n",
              "    }\n",
              "\n",
              "    [theme=dark] .colab-df-convert:hover {\n",
              "      background-color: #434B5C;\n",
              "      box-shadow: 0px 1px 3px 1px rgba(0, 0, 0, 0.15);\n",
              "      filter: drop-shadow(0px 1px 2px rgba(0, 0, 0, 0.3));\n",
              "      fill: #FFFFFF;\n",
              "    }\n",
              "  </style>\n",
              "\n",
              "      <script>\n",
              "        const buttonEl =\n",
              "          document.querySelector('#df-cd0b79bc-4eb8-4fe4-b94f-5b1d63010b9b button.colab-df-convert');\n",
              "        buttonEl.style.display =\n",
              "          google.colab.kernel.accessAllowed ? 'block' : 'none';\n",
              "\n",
              "        async function convertToInteractive(key) {\n",
              "          const element = document.querySelector('#df-cd0b79bc-4eb8-4fe4-b94f-5b1d63010b9b');\n",
              "          const dataTable =\n",
              "            await google.colab.kernel.invokeFunction('convertToInteractive',\n",
              "                                                     [key], {});\n",
              "          if (!dataTable) return;\n",
              "\n",
              "          const docLinkHtml = 'Like what you see? Visit the ' +\n",
              "            '<a target=\"_blank\" href=https://colab.research.google.com/notebooks/data_table.ipynb>data table notebook</a>'\n",
              "            + ' to learn more about interactive tables.';\n",
              "          element.innerHTML = '';\n",
              "          dataTable['output_type'] = 'display_data';\n",
              "          await google.colab.output.renderOutput(dataTable, element);\n",
              "          const docLink = document.createElement('div');\n",
              "          docLink.innerHTML = docLinkHtml;\n",
              "          element.appendChild(docLink);\n",
              "        }\n",
              "      </script>\n",
              "    </div>\n",
              "  </div>\n",
              "  "
            ],
            "text/plain": [
              "   X1  X2  Y\n",
              "0   0   0  0\n",
              "1   0   1  1\n",
              "2   1   0  1\n",
              "3   1   1  1"
            ]
          },
          "execution_count": 6,
          "metadata": {},
          "output_type": "execute_result"
        }
      ],
      "source": [
        "treino.head()"
      ]
    },
    {
      "cell_type": "markdown",
      "metadata": {
        "id": "WWz4ulJYXuUT"
      },
      "source": [
        "Será necessário converter o conjunto de treinamento para um array numpy."
      ]
    },
    {
      "cell_type": "code",
      "execution_count": null,
      "metadata": {
        "id": "pyLz-PfTXoWd"
      },
      "outputs": [],
      "source": [
        "treino = treino.to_numpy() # conversao para array numpy"
      ]
    },
    {
      "cell_type": "markdown",
      "metadata": {
        "id": "EZSSjIyMcU5E"
      },
      "source": [
        "## Conjunto de teste"
      ]
    },
    {
      "cell_type": "markdown",
      "metadata": {
        "id": "aRG9foPJX3F-"
      },
      "source": [
        "A seguir será definido qual é o conjunto de teste para o Perceptron. Neste caso, o conjunto de teste utilizado será todo o dataframe originalmente construído também, uma vez que há poucos casos para testes (4 diferentes casos)."
      ]
    },
    {
      "cell_type": "code",
      "execution_count": null,
      "metadata": {
        "id": "2DcZs0sWbR3_"
      },
      "outputs": [],
      "source": [
        "teste = df.copy() # conjunto de teste recebe uma copia do dataframe original"
      ]
    },
    {
      "cell_type": "code",
      "execution_count": null,
      "metadata": {
        "colab": {
          "base_uri": "https://localhost:8080/",
          "height": 175
        },
        "id": "jddjRUzWbTbR",
        "outputId": "9ef44e8e-6a92-4a92-944b-73c862d134b9"
      },
      "outputs": [
        {
          "data": {
            "text/html": [
              "\n",
              "  <div id=\"df-fc065aae-38e5-4db7-a71a-7fcc4a549f6d\">\n",
              "    <div class=\"colab-df-container\">\n",
              "      <div>\n",
              "<style scoped>\n",
              "    .dataframe tbody tr th:only-of-type {\n",
              "        vertical-align: middle;\n",
              "    }\n",
              "\n",
              "    .dataframe tbody tr th {\n",
              "        vertical-align: top;\n",
              "    }\n",
              "\n",
              "    .dataframe thead th {\n",
              "        text-align: right;\n",
              "    }\n",
              "</style>\n",
              "<table border=\"1\" class=\"dataframe\">\n",
              "  <thead>\n",
              "    <tr style=\"text-align: right;\">\n",
              "      <th></th>\n",
              "      <th>X1</th>\n",
              "      <th>X2</th>\n",
              "      <th>Y</th>\n",
              "    </tr>\n",
              "  </thead>\n",
              "  <tbody>\n",
              "    <tr>\n",
              "      <th>0</th>\n",
              "      <td>0</td>\n",
              "      <td>0</td>\n",
              "      <td>0</td>\n",
              "    </tr>\n",
              "    <tr>\n",
              "      <th>1</th>\n",
              "      <td>0</td>\n",
              "      <td>1</td>\n",
              "      <td>1</td>\n",
              "    </tr>\n",
              "    <tr>\n",
              "      <th>2</th>\n",
              "      <td>1</td>\n",
              "      <td>0</td>\n",
              "      <td>1</td>\n",
              "    </tr>\n",
              "    <tr>\n",
              "      <th>3</th>\n",
              "      <td>1</td>\n",
              "      <td>1</td>\n",
              "      <td>1</td>\n",
              "    </tr>\n",
              "  </tbody>\n",
              "</table>\n",
              "</div>\n",
              "      <button class=\"colab-df-convert\" onclick=\"convertToInteractive('df-fc065aae-38e5-4db7-a71a-7fcc4a549f6d')\"\n",
              "              title=\"Convert this dataframe to an interactive table.\"\n",
              "              style=\"display:none;\">\n",
              "        \n",
              "  <svg xmlns=\"http://www.w3.org/2000/svg\" height=\"24px\"viewBox=\"0 0 24 24\"\n",
              "       width=\"24px\">\n",
              "    <path d=\"M0 0h24v24H0V0z\" fill=\"none\"/>\n",
              "    <path d=\"M18.56 5.44l.94 2.06.94-2.06 2.06-.94-2.06-.94-.94-2.06-.94 2.06-2.06.94zm-11 1L8.5 8.5l.94-2.06 2.06-.94-2.06-.94L8.5 2.5l-.94 2.06-2.06.94zm10 10l.94 2.06.94-2.06 2.06-.94-2.06-.94-.94-2.06-.94 2.06-2.06.94z\"/><path d=\"M17.41 7.96l-1.37-1.37c-.4-.4-.92-.59-1.43-.59-.52 0-1.04.2-1.43.59L10.3 9.45l-7.72 7.72c-.78.78-.78 2.05 0 2.83L4 21.41c.39.39.9.59 1.41.59.51 0 1.02-.2 1.41-.59l7.78-7.78 2.81-2.81c.8-.78.8-2.07 0-2.86zM5.41 20L4 18.59l7.72-7.72 1.47 1.35L5.41 20z\"/>\n",
              "  </svg>\n",
              "      </button>\n",
              "      \n",
              "  <style>\n",
              "    .colab-df-container {\n",
              "      display:flex;\n",
              "      flex-wrap:wrap;\n",
              "      gap: 12px;\n",
              "    }\n",
              "\n",
              "    .colab-df-convert {\n",
              "      background-color: #E8F0FE;\n",
              "      border: none;\n",
              "      border-radius: 50%;\n",
              "      cursor: pointer;\n",
              "      display: none;\n",
              "      fill: #1967D2;\n",
              "      height: 32px;\n",
              "      padding: 0 0 0 0;\n",
              "      width: 32px;\n",
              "    }\n",
              "\n",
              "    .colab-df-convert:hover {\n",
              "      background-color: #E2EBFA;\n",
              "      box-shadow: 0px 1px 2px rgba(60, 64, 67, 0.3), 0px 1px 3px 1px rgba(60, 64, 67, 0.15);\n",
              "      fill: #174EA6;\n",
              "    }\n",
              "\n",
              "    [theme=dark] .colab-df-convert {\n",
              "      background-color: #3B4455;\n",
              "      fill: #D2E3FC;\n",
              "    }\n",
              "\n",
              "    [theme=dark] .colab-df-convert:hover {\n",
              "      background-color: #434B5C;\n",
              "      box-shadow: 0px 1px 3px 1px rgba(0, 0, 0, 0.15);\n",
              "      filter: drop-shadow(0px 1px 2px rgba(0, 0, 0, 0.3));\n",
              "      fill: #FFFFFF;\n",
              "    }\n",
              "  </style>\n",
              "\n",
              "      <script>\n",
              "        const buttonEl =\n",
              "          document.querySelector('#df-fc065aae-38e5-4db7-a71a-7fcc4a549f6d button.colab-df-convert');\n",
              "        buttonEl.style.display =\n",
              "          google.colab.kernel.accessAllowed ? 'block' : 'none';\n",
              "\n",
              "        async function convertToInteractive(key) {\n",
              "          const element = document.querySelector('#df-fc065aae-38e5-4db7-a71a-7fcc4a549f6d');\n",
              "          const dataTable =\n",
              "            await google.colab.kernel.invokeFunction('convertToInteractive',\n",
              "                                                     [key], {});\n",
              "          if (!dataTable) return;\n",
              "\n",
              "          const docLinkHtml = 'Like what you see? Visit the ' +\n",
              "            '<a target=\"_blank\" href=https://colab.research.google.com/notebooks/data_table.ipynb>data table notebook</a>'\n",
              "            + ' to learn more about interactive tables.';\n",
              "          element.innerHTML = '';\n",
              "          dataTable['output_type'] = 'display_data';\n",
              "          await google.colab.output.renderOutput(dataTable, element);\n",
              "          const docLink = document.createElement('div');\n",
              "          docLink.innerHTML = docLinkHtml;\n",
              "          element.appendChild(docLink);\n",
              "        }\n",
              "      </script>\n",
              "    </div>\n",
              "  </div>\n",
              "  "
            ],
            "text/plain": [
              "   X1  X2  Y\n",
              "0   0   0  0\n",
              "1   0   1  1\n",
              "2   1   0  1\n",
              "3   1   1  1"
            ]
          },
          "execution_count": 9,
          "metadata": {},
          "output_type": "execute_result"
        }
      ],
      "source": [
        "teste.head()"
      ]
    },
    {
      "cell_type": "markdown",
      "metadata": {
        "id": "HxgW7F1aYKad"
      },
      "source": [
        "Será necessário converter o conjunto de teste para um array numpy."
      ]
    },
    {
      "cell_type": "code",
      "execution_count": null,
      "metadata": {
        "id": "20T6IrIybiM9"
      },
      "outputs": [],
      "source": [
        "teste = teste.to_numpy() # conversao para array numpy"
      ]
    },
    {
      "cell_type": "markdown",
      "metadata": {
        "id": "nhn4yg7sca0r"
      },
      "source": [
        "## Aplicação do Perceptron"
      ]
    },
    {
      "cell_type": "markdown",
      "metadata": {
        "id": "nZk2c17eYN1k"
      },
      "source": [
        "A seguir será feito o treinamento do Perceptron a partir do conjunto \"treino\", e a predição a partir do conjunto \"teste\"."
      ]
    },
    {
      "cell_type": "markdown",
      "metadata": {
        "id": "LyUpPvSbYa7X"
      },
      "source": [
        "### Treinamento do Perceptron"
      ]
    },
    {
      "cell_type": "code",
      "execution_count": null,
      "metadata": {
        "colab": {
          "base_uri": "https://localhost:8080/"
        },
        "id": "_7H2GRl7bV0B",
        "outputId": "53c20f0e-f6d7-4c9c-d5d9-bf7d688fa8b0"
      },
      "outputs": [
        {
          "name": "stdout",
          "output_type": "stream",
          "text": [
            "pesos iniciais: [0.0, 0.0, 0.0]\n",
            "época = 0, erro quadrático = 2.000\n",
            "época = 1, erro quadrático = 2.000\n",
            "época = 2, erro quadrático = 1.000\n",
            "época = 3, erro quadrático = 0.000\n",
            "época = 4, erro quadrático = 0.000\n",
            "época = 5, erro quadrático = 0.000\n",
            "época = 6, erro quadrático = 0.000\n",
            "época = 7, erro quadrático = 0.000\n",
            "época = 8, erro quadrático = 0.000\n",
            "época = 9, erro quadrático = 0.000\n",
            "época = 10, erro quadrático = 0.000\n",
            "época = 11, erro quadrático = 0.000\n",
            "época = 12, erro quadrático = 0.000\n",
            "época = 13, erro quadrático = 0.000\n",
            "época = 14, erro quadrático = 0.000\n",
            "época = 15, erro quadrático = 0.000\n",
            "época = 16, erro quadrático = 0.000\n",
            "época = 17, erro quadrático = 0.000\n",
            "época = 18, erro quadrático = 0.000\n",
            "época = 19, erro quadrático = 0.000\n",
            "época = 20, erro quadrático = 0.000\n",
            "época = 21, erro quadrático = 0.000\n",
            "época = 22, erro quadrático = 0.000\n",
            "época = 23, erro quadrático = 0.000\n",
            "época = 24, erro quadrático = 0.000\n",
            "pesos finais: [-0.1, 0.1, 0.1]\n"
          ]
        }
      ],
      "source": [
        "y_pred = perceptron_or(treino, teste, 0.1, 25)"
      ]
    },
    {
      "cell_type": "markdown",
      "metadata": {
        "id": "oIL-f6UQYi8x"
      },
      "source": [
        "### Predição"
      ]
    },
    {
      "cell_type": "code",
      "execution_count": null,
      "metadata": {
        "colab": {
          "base_uri": "https://localhost:8080/"
        },
        "id": "72n6hj2bbbkr",
        "outputId": "e27ffb50-e6d7-4983-8a65-eedaa4173b51"
      },
      "outputs": [
        {
          "data": {
            "text/plain": [
              "[0.0, 1.0, 1.0, 1.0]"
            ]
          },
          "execution_count": 12,
          "metadata": {},
          "output_type": "execute_result"
        }
      ],
      "source": [
        "y_pred"
      ]
    },
    {
      "cell_type": "markdown",
      "metadata": {
        "id": "WLu3SlK3cfTi"
      },
      "source": [
        "# Conjunto de dados Clara-Escura"
      ]
    },
    {
      "cell_type": "markdown",
      "metadata": {
        "id": "djZkhCBSY6dy"
      },
      "source": [
        "Nesta seção, será o Perceptron será aplicado para o conjunto de dados  \"Clara-Escura\"."
      ]
    },
    {
      "cell_type": "markdown",
      "metadata": {
        "id": "bbIotoTCjtYf"
      },
      "source": [
        "## Implementação do Perceptron"
      ]
    },
    {
      "cell_type": "markdown",
      "metadata": {
        "id": "PDfPgHCJZDY4"
      },
      "source": [
        "É importante ressaltar neste ponto que a implementação do Perceptron é praticamente a mesma da implementação anterior. A única mudança está na linha de retorno da função *predict_clara_esc*, em que agora a função retorna 1 ou -1. Na implementação anterior, essa função retornava 1 ou 0."
      ]
    },
    {
      "cell_type": "markdown",
      "metadata": {
        "id": "EZlsIvELj9Xo"
      },
      "source": [
        "A maior parte dos comentários do código foram omitidos, uma vez que eles são os mesmos da implementação anterior. O comentário que é importante destacar é o comentário referente ao retorno da função *predict_clara_esc*, que indica o local em que houve a única alteração em relação à implementação anterior."
      ]
    },
    {
      "cell_type": "code",
      "execution_count": null,
      "metadata": {
        "id": "eJw25dEoi2F1"
      },
      "outputs": [],
      "source": [
        "# Função que faz a predição de acordo com os pesos calculados\n",
        "def predict_clara_esc(row, weights):\n",
        "\n",
        "\tactivation = weights[0]\n",
        "\n",
        "\tfor i in range(len(row)-1):\n",
        "\n",
        "\t\tactivation += weights[i + 1] * row[i]\n",
        "\n",
        "\treturn 1.0 if activation >= 0.0 else -1.0 # linha que sofreu alteração no retorno de (1,0) para (1,-1)\n",
        "\n",
        "# Função que estima os pesos a partir no método stochastic gradient descent\n",
        "def train_weights_clara_esc(train, l_rate, n_epoch):\n",
        "\n",
        "\tweights = [0.0 for i in range(len(train[0]))]\n",
        "\n",
        "\tprint('pesos iniciais: ' + str(weights))\n",
        "\n",
        "\tfor epoch in range(n_epoch):\n",
        "\n",
        "\t\tsum_error = 0.0\n",
        "\n",
        "\t\tfor row in train:\n",
        "\n",
        "\t\t\tprediction = predict_clara_esc(row, weights)\n",
        "\n",
        "\t\t\terror = row[-1] - prediction\n",
        "\n",
        "\t\t\tsum_error += error**2\n",
        "\n",
        "\t\t\tweights[0] = weights[0] + l_rate * error\n",
        "\n",
        "\t\t\tfor i in range(len(row)-1):\n",
        "\n",
        "\t\t\t\tweights[i + 1] = weights[i + 1] + l_rate * error * row[i]\n",
        "\n",
        "\t\tprint(f'época = {epoch}, erro quadrático = {sum_error:.3f}')\n",
        "\n",
        "\tprint('pesos finais: ' + str(weights))\n",
        "\treturn weights\n",
        "\n",
        "# Algoritmo perceptron com stochastic gradient descent\n",
        "def perceptron_clara_esc(train, test, l_rate, n_epoch):\n",
        "\n",
        "\tpredictions = list()\n",
        "\n",
        "\tweights = train_weights_clara_esc(train, l_rate, n_epoch)\n",
        "\n",
        "\tfor row in test:\n",
        "\n",
        "\t\tprediction = predict_clara_esc(row, weights)\n",
        "\t\tpredictions.append(prediction)\n",
        "\n",
        "\treturn predictions"
      ]
    },
    {
      "cell_type": "markdown",
      "metadata": {
        "id": "MXYfYjL0jwfJ"
      },
      "source": [
        "## Dataframe"
      ]
    },
    {
      "cell_type": "markdown",
      "metadata": {
        "id": "lJWnT-ZjZclL"
      },
      "source": [
        "Nesta parte será criado o dataframe que contém a relação entre entradas e saídas para o conjunto de dados."
      ]
    },
    {
      "cell_type": "code",
      "execution_count": null,
      "metadata": {
        "id": "NaHETWsK_MSs"
      },
      "outputs": [],
      "source": [
        "data = {'X1': [-1,-1,-1,-1,1,-1,-1,1,1,-1,1,-1,1,1,1,1], 'X2': [-1,-1,-1,1,-1,-1,1,1,-1,1,-1,1,-1,1,1,1],\n",
        "     'X3': [-1,-1,1,-1,-1,1,1,-1,1,-1,-1,1,1,-1,1,1], 'X4': [-1,1,-1,-1,-1,1,-1,-1,-1,1,1,1,1,1,-1,1],\n",
        "     'Y': [-1,-1,-1,-1,-1,1,1,1,1,1,1,1,1,1,1,1]} # relação dos dados\n",
        "\n",
        "df = pd.DataFrame(data=data) # criação do dataframe"
      ]
    },
    {
      "cell_type": "code",
      "execution_count": null,
      "metadata": {
        "colab": {
          "base_uri": "https://localhost:8080/",
          "height": 551
        },
        "id": "ItNwQlyYcnpx",
        "outputId": "57f43b2d-6902-4d9e-a6cf-6840ea91a26d"
      },
      "outputs": [
        {
          "data": {
            "text/html": [
              "\n",
              "  <div id=\"df-428bd4a9-ce50-4722-80cc-67e917c0419e\">\n",
              "    <div class=\"colab-df-container\">\n",
              "      <div>\n",
              "<style scoped>\n",
              "    .dataframe tbody tr th:only-of-type {\n",
              "        vertical-align: middle;\n",
              "    }\n",
              "\n",
              "    .dataframe tbody tr th {\n",
              "        vertical-align: top;\n",
              "    }\n",
              "\n",
              "    .dataframe thead th {\n",
              "        text-align: right;\n",
              "    }\n",
              "</style>\n",
              "<table border=\"1\" class=\"dataframe\">\n",
              "  <thead>\n",
              "    <tr style=\"text-align: right;\">\n",
              "      <th></th>\n",
              "      <th>X1</th>\n",
              "      <th>X2</th>\n",
              "      <th>X3</th>\n",
              "      <th>X4</th>\n",
              "      <th>Y</th>\n",
              "    </tr>\n",
              "  </thead>\n",
              "  <tbody>\n",
              "    <tr>\n",
              "      <th>0</th>\n",
              "      <td>-1</td>\n",
              "      <td>-1</td>\n",
              "      <td>-1</td>\n",
              "      <td>-1</td>\n",
              "      <td>-1</td>\n",
              "    </tr>\n",
              "    <tr>\n",
              "      <th>1</th>\n",
              "      <td>-1</td>\n",
              "      <td>-1</td>\n",
              "      <td>-1</td>\n",
              "      <td>1</td>\n",
              "      <td>-1</td>\n",
              "    </tr>\n",
              "    <tr>\n",
              "      <th>2</th>\n",
              "      <td>-1</td>\n",
              "      <td>-1</td>\n",
              "      <td>1</td>\n",
              "      <td>-1</td>\n",
              "      <td>-1</td>\n",
              "    </tr>\n",
              "    <tr>\n",
              "      <th>3</th>\n",
              "      <td>-1</td>\n",
              "      <td>1</td>\n",
              "      <td>-1</td>\n",
              "      <td>-1</td>\n",
              "      <td>-1</td>\n",
              "    </tr>\n",
              "    <tr>\n",
              "      <th>4</th>\n",
              "      <td>1</td>\n",
              "      <td>-1</td>\n",
              "      <td>-1</td>\n",
              "      <td>-1</td>\n",
              "      <td>-1</td>\n",
              "    </tr>\n",
              "    <tr>\n",
              "      <th>5</th>\n",
              "      <td>-1</td>\n",
              "      <td>-1</td>\n",
              "      <td>1</td>\n",
              "      <td>1</td>\n",
              "      <td>1</td>\n",
              "    </tr>\n",
              "    <tr>\n",
              "      <th>6</th>\n",
              "      <td>-1</td>\n",
              "      <td>1</td>\n",
              "      <td>1</td>\n",
              "      <td>-1</td>\n",
              "      <td>1</td>\n",
              "    </tr>\n",
              "    <tr>\n",
              "      <th>7</th>\n",
              "      <td>1</td>\n",
              "      <td>1</td>\n",
              "      <td>-1</td>\n",
              "      <td>-1</td>\n",
              "      <td>1</td>\n",
              "    </tr>\n",
              "    <tr>\n",
              "      <th>8</th>\n",
              "      <td>1</td>\n",
              "      <td>-1</td>\n",
              "      <td>1</td>\n",
              "      <td>-1</td>\n",
              "      <td>1</td>\n",
              "    </tr>\n",
              "    <tr>\n",
              "      <th>9</th>\n",
              "      <td>-1</td>\n",
              "      <td>1</td>\n",
              "      <td>-1</td>\n",
              "      <td>1</td>\n",
              "      <td>1</td>\n",
              "    </tr>\n",
              "    <tr>\n",
              "      <th>10</th>\n",
              "      <td>1</td>\n",
              "      <td>-1</td>\n",
              "      <td>-1</td>\n",
              "      <td>1</td>\n",
              "      <td>1</td>\n",
              "    </tr>\n",
              "    <tr>\n",
              "      <th>11</th>\n",
              "      <td>-1</td>\n",
              "      <td>1</td>\n",
              "      <td>1</td>\n",
              "      <td>1</td>\n",
              "      <td>1</td>\n",
              "    </tr>\n",
              "    <tr>\n",
              "      <th>12</th>\n",
              "      <td>1</td>\n",
              "      <td>-1</td>\n",
              "      <td>1</td>\n",
              "      <td>1</td>\n",
              "      <td>1</td>\n",
              "    </tr>\n",
              "    <tr>\n",
              "      <th>13</th>\n",
              "      <td>1</td>\n",
              "      <td>1</td>\n",
              "      <td>-1</td>\n",
              "      <td>1</td>\n",
              "      <td>1</td>\n",
              "    </tr>\n",
              "    <tr>\n",
              "      <th>14</th>\n",
              "      <td>1</td>\n",
              "      <td>1</td>\n",
              "      <td>1</td>\n",
              "      <td>-1</td>\n",
              "      <td>1</td>\n",
              "    </tr>\n",
              "    <tr>\n",
              "      <th>15</th>\n",
              "      <td>1</td>\n",
              "      <td>1</td>\n",
              "      <td>1</td>\n",
              "      <td>1</td>\n",
              "      <td>1</td>\n",
              "    </tr>\n",
              "  </tbody>\n",
              "</table>\n",
              "</div>\n",
              "      <button class=\"colab-df-convert\" onclick=\"convertToInteractive('df-428bd4a9-ce50-4722-80cc-67e917c0419e')\"\n",
              "              title=\"Convert this dataframe to an interactive table.\"\n",
              "              style=\"display:none;\">\n",
              "        \n",
              "  <svg xmlns=\"http://www.w3.org/2000/svg\" height=\"24px\"viewBox=\"0 0 24 24\"\n",
              "       width=\"24px\">\n",
              "    <path d=\"M0 0h24v24H0V0z\" fill=\"none\"/>\n",
              "    <path d=\"M18.56 5.44l.94 2.06.94-2.06 2.06-.94-2.06-.94-.94-2.06-.94 2.06-2.06.94zm-11 1L8.5 8.5l.94-2.06 2.06-.94-2.06-.94L8.5 2.5l-.94 2.06-2.06.94zm10 10l.94 2.06.94-2.06 2.06-.94-2.06-.94-.94-2.06-.94 2.06-2.06.94z\"/><path d=\"M17.41 7.96l-1.37-1.37c-.4-.4-.92-.59-1.43-.59-.52 0-1.04.2-1.43.59L10.3 9.45l-7.72 7.72c-.78.78-.78 2.05 0 2.83L4 21.41c.39.39.9.59 1.41.59.51 0 1.02-.2 1.41-.59l7.78-7.78 2.81-2.81c.8-.78.8-2.07 0-2.86zM5.41 20L4 18.59l7.72-7.72 1.47 1.35L5.41 20z\"/>\n",
              "  </svg>\n",
              "      </button>\n",
              "      \n",
              "  <style>\n",
              "    .colab-df-container {\n",
              "      display:flex;\n",
              "      flex-wrap:wrap;\n",
              "      gap: 12px;\n",
              "    }\n",
              "\n",
              "    .colab-df-convert {\n",
              "      background-color: #E8F0FE;\n",
              "      border: none;\n",
              "      border-radius: 50%;\n",
              "      cursor: pointer;\n",
              "      display: none;\n",
              "      fill: #1967D2;\n",
              "      height: 32px;\n",
              "      padding: 0 0 0 0;\n",
              "      width: 32px;\n",
              "    }\n",
              "\n",
              "    .colab-df-convert:hover {\n",
              "      background-color: #E2EBFA;\n",
              "      box-shadow: 0px 1px 2px rgba(60, 64, 67, 0.3), 0px 1px 3px 1px rgba(60, 64, 67, 0.15);\n",
              "      fill: #174EA6;\n",
              "    }\n",
              "\n",
              "    [theme=dark] .colab-df-convert {\n",
              "      background-color: #3B4455;\n",
              "      fill: #D2E3FC;\n",
              "    }\n",
              "\n",
              "    [theme=dark] .colab-df-convert:hover {\n",
              "      background-color: #434B5C;\n",
              "      box-shadow: 0px 1px 3px 1px rgba(0, 0, 0, 0.15);\n",
              "      filter: drop-shadow(0px 1px 2px rgba(0, 0, 0, 0.3));\n",
              "      fill: #FFFFFF;\n",
              "    }\n",
              "  </style>\n",
              "\n",
              "      <script>\n",
              "        const buttonEl =\n",
              "          document.querySelector('#df-428bd4a9-ce50-4722-80cc-67e917c0419e button.colab-df-convert');\n",
              "        buttonEl.style.display =\n",
              "          google.colab.kernel.accessAllowed ? 'block' : 'none';\n",
              "\n",
              "        async function convertToInteractive(key) {\n",
              "          const element = document.querySelector('#df-428bd4a9-ce50-4722-80cc-67e917c0419e');\n",
              "          const dataTable =\n",
              "            await google.colab.kernel.invokeFunction('convertToInteractive',\n",
              "                                                     [key], {});\n",
              "          if (!dataTable) return;\n",
              "\n",
              "          const docLinkHtml = 'Like what you see? Visit the ' +\n",
              "            '<a target=\"_blank\" href=https://colab.research.google.com/notebooks/data_table.ipynb>data table notebook</a>'\n",
              "            + ' to learn more about interactive tables.';\n",
              "          element.innerHTML = '';\n",
              "          dataTable['output_type'] = 'display_data';\n",
              "          await google.colab.output.renderOutput(dataTable, element);\n",
              "          const docLink = document.createElement('div');\n",
              "          docLink.innerHTML = docLinkHtml;\n",
              "          element.appendChild(docLink);\n",
              "        }\n",
              "      </script>\n",
              "    </div>\n",
              "  </div>\n",
              "  "
            ],
            "text/plain": [
              "    X1  X2  X3  X4  Y\n",
              "0   -1  -1  -1  -1 -1\n",
              "1   -1  -1  -1   1 -1\n",
              "2   -1  -1   1  -1 -1\n",
              "3   -1   1  -1  -1 -1\n",
              "4    1  -1  -1  -1 -1\n",
              "5   -1  -1   1   1  1\n",
              "6   -1   1   1  -1  1\n",
              "7    1   1  -1  -1  1\n",
              "8    1  -1   1  -1  1\n",
              "9   -1   1  -1   1  1\n",
              "10   1  -1  -1   1  1\n",
              "11  -1   1   1   1  1\n",
              "12   1  -1   1   1  1\n",
              "13   1   1  -1   1  1\n",
              "14   1   1   1  -1  1\n",
              "15   1   1   1   1  1"
            ]
          },
          "execution_count": 33,
          "metadata": {},
          "output_type": "execute_result"
        }
      ],
      "source": [
        "df"
      ]
    },
    {
      "cell_type": "code",
      "execution_count": null,
      "metadata": {
        "colab": {
          "base_uri": "https://localhost:8080/"
        },
        "id": "nkbORO0FZxrk",
        "outputId": "4058a98b-86e3-4f76-bdc7-cfaf18d54e3a"
      },
      "outputs": [
        {
          "name": "stdout",
          "output_type": "stream",
          "text": [
            "Formato do dataframe: (16, 5)\n"
          ]
        }
      ],
      "source": [
        "print(\"Formato do dataframe:\", df.shape)"
      ]
    },
    {
      "cell_type": "markdown",
      "metadata": {
        "id": "0lp1dIRqCvRP"
      },
      "source": [
        "## Conjunto de treinamento"
      ]
    },
    {
      "cell_type": "markdown",
      "metadata": {
        "id": "COey0IbIZ-2n"
      },
      "source": [
        "A seguir será definido qual é o conjunto de treinamento para o Perceptron. Neste caso, o conjunto será todo o dataframe construído anteriormente."
      ]
    },
    {
      "cell_type": "code",
      "execution_count": null,
      "metadata": {
        "id": "V8SLLKEsB0sv"
      },
      "outputs": [],
      "source": [
        "treino = df.copy() # conjunto de treinamento recebe uma copia do dataframe original"
      ]
    },
    {
      "cell_type": "code",
      "execution_count": null,
      "metadata": {
        "colab": {
          "base_uri": "https://localhost:8080/",
          "height": 206
        },
        "id": "G1axVBMUCuk1",
        "outputId": "840a2351-ce4e-4409-8a49-2079b575fb78"
      },
      "outputs": [
        {
          "data": {
            "text/html": [
              "\n",
              "  <div id=\"df-6ac8daa5-9f40-408f-9ba4-d9e8d07c720c\">\n",
              "    <div class=\"colab-df-container\">\n",
              "      <div>\n",
              "<style scoped>\n",
              "    .dataframe tbody tr th:only-of-type {\n",
              "        vertical-align: middle;\n",
              "    }\n",
              "\n",
              "    .dataframe tbody tr th {\n",
              "        vertical-align: top;\n",
              "    }\n",
              "\n",
              "    .dataframe thead th {\n",
              "        text-align: right;\n",
              "    }\n",
              "</style>\n",
              "<table border=\"1\" class=\"dataframe\">\n",
              "  <thead>\n",
              "    <tr style=\"text-align: right;\">\n",
              "      <th></th>\n",
              "      <th>X1</th>\n",
              "      <th>X2</th>\n",
              "      <th>X3</th>\n",
              "      <th>X4</th>\n",
              "      <th>Y</th>\n",
              "    </tr>\n",
              "  </thead>\n",
              "  <tbody>\n",
              "    <tr>\n",
              "      <th>0</th>\n",
              "      <td>-1</td>\n",
              "      <td>-1</td>\n",
              "      <td>-1</td>\n",
              "      <td>-1</td>\n",
              "      <td>-1</td>\n",
              "    </tr>\n",
              "    <tr>\n",
              "      <th>1</th>\n",
              "      <td>-1</td>\n",
              "      <td>-1</td>\n",
              "      <td>-1</td>\n",
              "      <td>1</td>\n",
              "      <td>-1</td>\n",
              "    </tr>\n",
              "    <tr>\n",
              "      <th>2</th>\n",
              "      <td>-1</td>\n",
              "      <td>-1</td>\n",
              "      <td>1</td>\n",
              "      <td>-1</td>\n",
              "      <td>-1</td>\n",
              "    </tr>\n",
              "    <tr>\n",
              "      <th>3</th>\n",
              "      <td>-1</td>\n",
              "      <td>1</td>\n",
              "      <td>-1</td>\n",
              "      <td>-1</td>\n",
              "      <td>-1</td>\n",
              "    </tr>\n",
              "    <tr>\n",
              "      <th>4</th>\n",
              "      <td>1</td>\n",
              "      <td>-1</td>\n",
              "      <td>-1</td>\n",
              "      <td>-1</td>\n",
              "      <td>-1</td>\n",
              "    </tr>\n",
              "  </tbody>\n",
              "</table>\n",
              "</div>\n",
              "      <button class=\"colab-df-convert\" onclick=\"convertToInteractive('df-6ac8daa5-9f40-408f-9ba4-d9e8d07c720c')\"\n",
              "              title=\"Convert this dataframe to an interactive table.\"\n",
              "              style=\"display:none;\">\n",
              "        \n",
              "  <svg xmlns=\"http://www.w3.org/2000/svg\" height=\"24px\"viewBox=\"0 0 24 24\"\n",
              "       width=\"24px\">\n",
              "    <path d=\"M0 0h24v24H0V0z\" fill=\"none\"/>\n",
              "    <path d=\"M18.56 5.44l.94 2.06.94-2.06 2.06-.94-2.06-.94-.94-2.06-.94 2.06-2.06.94zm-11 1L8.5 8.5l.94-2.06 2.06-.94-2.06-.94L8.5 2.5l-.94 2.06-2.06.94zm10 10l.94 2.06.94-2.06 2.06-.94-2.06-.94-.94-2.06-.94 2.06-2.06.94z\"/><path d=\"M17.41 7.96l-1.37-1.37c-.4-.4-.92-.59-1.43-.59-.52 0-1.04.2-1.43.59L10.3 9.45l-7.72 7.72c-.78.78-.78 2.05 0 2.83L4 21.41c.39.39.9.59 1.41.59.51 0 1.02-.2 1.41-.59l7.78-7.78 2.81-2.81c.8-.78.8-2.07 0-2.86zM5.41 20L4 18.59l7.72-7.72 1.47 1.35L5.41 20z\"/>\n",
              "  </svg>\n",
              "      </button>\n",
              "      \n",
              "  <style>\n",
              "    .colab-df-container {\n",
              "      display:flex;\n",
              "      flex-wrap:wrap;\n",
              "      gap: 12px;\n",
              "    }\n",
              "\n",
              "    .colab-df-convert {\n",
              "      background-color: #E8F0FE;\n",
              "      border: none;\n",
              "      border-radius: 50%;\n",
              "      cursor: pointer;\n",
              "      display: none;\n",
              "      fill: #1967D2;\n",
              "      height: 32px;\n",
              "      padding: 0 0 0 0;\n",
              "      width: 32px;\n",
              "    }\n",
              "\n",
              "    .colab-df-convert:hover {\n",
              "      background-color: #E2EBFA;\n",
              "      box-shadow: 0px 1px 2px rgba(60, 64, 67, 0.3), 0px 1px 3px 1px rgba(60, 64, 67, 0.15);\n",
              "      fill: #174EA6;\n",
              "    }\n",
              "\n",
              "    [theme=dark] .colab-df-convert {\n",
              "      background-color: #3B4455;\n",
              "      fill: #D2E3FC;\n",
              "    }\n",
              "\n",
              "    [theme=dark] .colab-df-convert:hover {\n",
              "      background-color: #434B5C;\n",
              "      box-shadow: 0px 1px 3px 1px rgba(0, 0, 0, 0.15);\n",
              "      filter: drop-shadow(0px 1px 2px rgba(0, 0, 0, 0.3));\n",
              "      fill: #FFFFFF;\n",
              "    }\n",
              "  </style>\n",
              "\n",
              "      <script>\n",
              "        const buttonEl =\n",
              "          document.querySelector('#df-6ac8daa5-9f40-408f-9ba4-d9e8d07c720c button.colab-df-convert');\n",
              "        buttonEl.style.display =\n",
              "          google.colab.kernel.accessAllowed ? 'block' : 'none';\n",
              "\n",
              "        async function convertToInteractive(key) {\n",
              "          const element = document.querySelector('#df-6ac8daa5-9f40-408f-9ba4-d9e8d07c720c');\n",
              "          const dataTable =\n",
              "            await google.colab.kernel.invokeFunction('convertToInteractive',\n",
              "                                                     [key], {});\n",
              "          if (!dataTable) return;\n",
              "\n",
              "          const docLinkHtml = 'Like what you see? Visit the ' +\n",
              "            '<a target=\"_blank\" href=https://colab.research.google.com/notebooks/data_table.ipynb>data table notebook</a>'\n",
              "            + ' to learn more about interactive tables.';\n",
              "          element.innerHTML = '';\n",
              "          dataTable['output_type'] = 'display_data';\n",
              "          await google.colab.output.renderOutput(dataTable, element);\n",
              "          const docLink = document.createElement('div');\n",
              "          docLink.innerHTML = docLinkHtml;\n",
              "          element.appendChild(docLink);\n",
              "        }\n",
              "      </script>\n",
              "    </div>\n",
              "  </div>\n",
              "  "
            ],
            "text/plain": [
              "   X1  X2  X3  X4  Y\n",
              "0  -1  -1  -1  -1 -1\n",
              "1  -1  -1  -1   1 -1\n",
              "2  -1  -1   1  -1 -1\n",
              "3  -1   1  -1  -1 -1\n",
              "4   1  -1  -1  -1 -1"
            ]
          },
          "execution_count": 36,
          "metadata": {},
          "output_type": "execute_result"
        }
      ],
      "source": [
        "treino.head()"
      ]
    },
    {
      "cell_type": "code",
      "execution_count": null,
      "metadata": {
        "colab": {
          "base_uri": "https://localhost:8080/"
        },
        "id": "ELtSGDyJaOGO",
        "outputId": "5948a8fc-b5e0-400f-ccc2-ebba12685c39"
      },
      "outputs": [
        {
          "name": "stdout",
          "output_type": "stream",
          "text": [
            "Formato do dataframe: (16, 5)\n"
          ]
        }
      ],
      "source": [
        "print(\"Formato do dataframe:\", treino.shape)"
      ]
    },
    {
      "cell_type": "markdown",
      "metadata": {
        "id": "XYFfjR52aGmf"
      },
      "source": [
        "Será necessário converter o conjunto de treinamento para um array numpy."
      ]
    },
    {
      "cell_type": "code",
      "execution_count": null,
      "metadata": {
        "id": "mlV-Rfx4cwis"
      },
      "outputs": [],
      "source": [
        "treino = treino.to_numpy() # conversao para array numpy"
      ]
    },
    {
      "cell_type": "markdown",
      "metadata": {
        "id": "MfdXjguac0CB"
      },
      "source": [
        "## Conjunto de teste"
      ]
    },
    {
      "cell_type": "markdown",
      "metadata": {
        "id": "GQzcl0c1aWWW"
      },
      "source": [
        "A seguir será definido qual é o conjunto de teste para o Perceptron. Neste caso, o conjunto de teste escolhido a partir de 5 linhas aleatórias do dataframe original."
      ]
    },
    {
      "cell_type": "code",
      "execution_count": null,
      "metadata": {
        "id": "1efeF7YZc1jB"
      },
      "outputs": [],
      "source": [
        "teste = df.sample(n = 5, ignore_index=True) # amostragem aleatoria do dataframe original"
      ]
    },
    {
      "cell_type": "code",
      "execution_count": null,
      "metadata": {
        "colab": {
          "base_uri": "https://localhost:8080/",
          "height": 206
        },
        "id": "crF7QlsrdIDV",
        "outputId": "f5ab70b9-0bba-4156-9627-846210359eb8"
      },
      "outputs": [
        {
          "data": {
            "text/html": [
              "\n",
              "  <div id=\"df-5ce757eb-8dd1-48f3-8477-2e9efd693537\">\n",
              "    <div class=\"colab-df-container\">\n",
              "      <div>\n",
              "<style scoped>\n",
              "    .dataframe tbody tr th:only-of-type {\n",
              "        vertical-align: middle;\n",
              "    }\n",
              "\n",
              "    .dataframe tbody tr th {\n",
              "        vertical-align: top;\n",
              "    }\n",
              "\n",
              "    .dataframe thead th {\n",
              "        text-align: right;\n",
              "    }\n",
              "</style>\n",
              "<table border=\"1\" class=\"dataframe\">\n",
              "  <thead>\n",
              "    <tr style=\"text-align: right;\">\n",
              "      <th></th>\n",
              "      <th>X1</th>\n",
              "      <th>X2</th>\n",
              "      <th>X3</th>\n",
              "      <th>X4</th>\n",
              "      <th>Y</th>\n",
              "    </tr>\n",
              "  </thead>\n",
              "  <tbody>\n",
              "    <tr>\n",
              "      <th>0</th>\n",
              "      <td>-1</td>\n",
              "      <td>1</td>\n",
              "      <td>-1</td>\n",
              "      <td>-1</td>\n",
              "      <td>-1</td>\n",
              "    </tr>\n",
              "    <tr>\n",
              "      <th>1</th>\n",
              "      <td>-1</td>\n",
              "      <td>1</td>\n",
              "      <td>-1</td>\n",
              "      <td>1</td>\n",
              "      <td>1</td>\n",
              "    </tr>\n",
              "    <tr>\n",
              "      <th>2</th>\n",
              "      <td>1</td>\n",
              "      <td>1</td>\n",
              "      <td>-1</td>\n",
              "      <td>1</td>\n",
              "      <td>1</td>\n",
              "    </tr>\n",
              "    <tr>\n",
              "      <th>3</th>\n",
              "      <td>-1</td>\n",
              "      <td>1</td>\n",
              "      <td>1</td>\n",
              "      <td>1</td>\n",
              "      <td>1</td>\n",
              "    </tr>\n",
              "    <tr>\n",
              "      <th>4</th>\n",
              "      <td>1</td>\n",
              "      <td>-1</td>\n",
              "      <td>-1</td>\n",
              "      <td>1</td>\n",
              "      <td>1</td>\n",
              "    </tr>\n",
              "  </tbody>\n",
              "</table>\n",
              "</div>\n",
              "      <button class=\"colab-df-convert\" onclick=\"convertToInteractive('df-5ce757eb-8dd1-48f3-8477-2e9efd693537')\"\n",
              "              title=\"Convert this dataframe to an interactive table.\"\n",
              "              style=\"display:none;\">\n",
              "        \n",
              "  <svg xmlns=\"http://www.w3.org/2000/svg\" height=\"24px\"viewBox=\"0 0 24 24\"\n",
              "       width=\"24px\">\n",
              "    <path d=\"M0 0h24v24H0V0z\" fill=\"none\"/>\n",
              "    <path d=\"M18.56 5.44l.94 2.06.94-2.06 2.06-.94-2.06-.94-.94-2.06-.94 2.06-2.06.94zm-11 1L8.5 8.5l.94-2.06 2.06-.94-2.06-.94L8.5 2.5l-.94 2.06-2.06.94zm10 10l.94 2.06.94-2.06 2.06-.94-2.06-.94-.94-2.06-.94 2.06-2.06.94z\"/><path d=\"M17.41 7.96l-1.37-1.37c-.4-.4-.92-.59-1.43-.59-.52 0-1.04.2-1.43.59L10.3 9.45l-7.72 7.72c-.78.78-.78 2.05 0 2.83L4 21.41c.39.39.9.59 1.41.59.51 0 1.02-.2 1.41-.59l7.78-7.78 2.81-2.81c.8-.78.8-2.07 0-2.86zM5.41 20L4 18.59l7.72-7.72 1.47 1.35L5.41 20z\"/>\n",
              "  </svg>\n",
              "      </button>\n",
              "      \n",
              "  <style>\n",
              "    .colab-df-container {\n",
              "      display:flex;\n",
              "      flex-wrap:wrap;\n",
              "      gap: 12px;\n",
              "    }\n",
              "\n",
              "    .colab-df-convert {\n",
              "      background-color: #E8F0FE;\n",
              "      border: none;\n",
              "      border-radius: 50%;\n",
              "      cursor: pointer;\n",
              "      display: none;\n",
              "      fill: #1967D2;\n",
              "      height: 32px;\n",
              "      padding: 0 0 0 0;\n",
              "      width: 32px;\n",
              "    }\n",
              "\n",
              "    .colab-df-convert:hover {\n",
              "      background-color: #E2EBFA;\n",
              "      box-shadow: 0px 1px 2px rgba(60, 64, 67, 0.3), 0px 1px 3px 1px rgba(60, 64, 67, 0.15);\n",
              "      fill: #174EA6;\n",
              "    }\n",
              "\n",
              "    [theme=dark] .colab-df-convert {\n",
              "      background-color: #3B4455;\n",
              "      fill: #D2E3FC;\n",
              "    }\n",
              "\n",
              "    [theme=dark] .colab-df-convert:hover {\n",
              "      background-color: #434B5C;\n",
              "      box-shadow: 0px 1px 3px 1px rgba(0, 0, 0, 0.15);\n",
              "      filter: drop-shadow(0px 1px 2px rgba(0, 0, 0, 0.3));\n",
              "      fill: #FFFFFF;\n",
              "    }\n",
              "  </style>\n",
              "\n",
              "      <script>\n",
              "        const buttonEl =\n",
              "          document.querySelector('#df-5ce757eb-8dd1-48f3-8477-2e9efd693537 button.colab-df-convert');\n",
              "        buttonEl.style.display =\n",
              "          google.colab.kernel.accessAllowed ? 'block' : 'none';\n",
              "\n",
              "        async function convertToInteractive(key) {\n",
              "          const element = document.querySelector('#df-5ce757eb-8dd1-48f3-8477-2e9efd693537');\n",
              "          const dataTable =\n",
              "            await google.colab.kernel.invokeFunction('convertToInteractive',\n",
              "                                                     [key], {});\n",
              "          if (!dataTable) return;\n",
              "\n",
              "          const docLinkHtml = 'Like what you see? Visit the ' +\n",
              "            '<a target=\"_blank\" href=https://colab.research.google.com/notebooks/data_table.ipynb>data table notebook</a>'\n",
              "            + ' to learn more about interactive tables.';\n",
              "          element.innerHTML = '';\n",
              "          dataTable['output_type'] = 'display_data';\n",
              "          await google.colab.output.renderOutput(dataTable, element);\n",
              "          const docLink = document.createElement('div');\n",
              "          docLink.innerHTML = docLinkHtml;\n",
              "          element.appendChild(docLink);\n",
              "        }\n",
              "      </script>\n",
              "    </div>\n",
              "  </div>\n",
              "  "
            ],
            "text/plain": [
              "   X1  X2  X3  X4  Y\n",
              "0  -1   1  -1  -1 -1\n",
              "1  -1   1  -1   1  1\n",
              "2   1   1  -1   1  1\n",
              "3  -1   1   1   1  1\n",
              "4   1  -1  -1   1  1"
            ]
          },
          "execution_count": 40,
          "metadata": {},
          "output_type": "execute_result"
        }
      ],
      "source": [
        "teste"
      ]
    },
    {
      "cell_type": "markdown",
      "metadata": {
        "id": "rRA2mBlkdIUB"
      },
      "source": [
        "Será necessário converter o conjunto de teste para um array numpy."
      ]
    },
    {
      "cell_type": "code",
      "execution_count": null,
      "metadata": {
        "id": "VKK19H4sdWI7"
      },
      "outputs": [],
      "source": [
        "teste = teste.to_numpy() # conversao para array numpy"
      ]
    },
    {
      "cell_type": "markdown",
      "metadata": {
        "id": "pq-2cp2SdSel"
      },
      "source": [
        "## Aplicação do Perceptron"
      ]
    },
    {
      "cell_type": "markdown",
      "metadata": {
        "id": "rZfqwJ0tdUkk"
      },
      "source": [
        "A seguir será feito o treinamento do Perceptron a partir do conjunto \"treino\", e a predição a partir do conjunto \"teste\"."
      ]
    },
    {
      "cell_type": "markdown",
      "metadata": {
        "id": "4pt2yumadWbF"
      },
      "source": [
        "### Treinamento do Perceptron"
      ]
    },
    {
      "cell_type": "code",
      "execution_count": null,
      "metadata": {
        "colab": {
          "base_uri": "https://localhost:8080/"
        },
        "id": "PMueJqgedcbH",
        "outputId": "d91ef1b0-6667-45f3-91ce-05d215b495c7"
      },
      "outputs": [
        {
          "name": "stdout",
          "output_type": "stream",
          "text": [
            "pesos iniciais: [0.0, 0.0, 0.0, 0.0, 0.0]\n",
            "época = 0, erro quadrático = 12.000\n",
            "época = 1, erro quadrático = 0.000\n",
            "época = 2, erro quadrático = 0.000\n",
            "época = 3, erro quadrático = 0.000\n",
            "época = 4, erro quadrático = 0.000\n",
            "época = 5, erro quadrático = 0.000\n",
            "época = 6, erro quadrático = 0.000\n",
            "época = 7, erro quadrático = 0.000\n",
            "época = 8, erro quadrático = 0.000\n",
            "época = 9, erro quadrático = 0.000\n",
            "época = 10, erro quadrático = 0.000\n",
            "época = 11, erro quadrático = 0.000\n",
            "época = 12, erro quadrático = 0.000\n",
            "época = 13, erro quadrático = 0.000\n",
            "época = 14, erro quadrático = 0.000\n",
            "época = 15, erro quadrático = 0.000\n",
            "época = 16, erro quadrático = 0.000\n",
            "época = 17, erro quadrático = 0.000\n",
            "época = 18, erro quadrático = 0.000\n",
            "época = 19, erro quadrático = 0.000\n",
            "época = 20, erro quadrático = 0.000\n",
            "época = 21, erro quadrático = 0.000\n",
            "época = 22, erro quadrático = 0.000\n",
            "época = 23, erro quadrático = 0.000\n",
            "época = 24, erro quadrático = 0.000\n",
            "pesos finais: [0.2, 0.2, 0.2, 0.2, 0.2]\n"
          ]
        }
      ],
      "source": [
        "y_pred = perceptron_clara_esc(treino, teste, 0.1, 25)"
      ]
    },
    {
      "cell_type": "markdown",
      "metadata": {
        "id": "mdGImOrsdahh"
      },
      "source": [
        "### Predição"
      ]
    },
    {
      "cell_type": "code",
      "execution_count": null,
      "metadata": {
        "colab": {
          "base_uri": "https://localhost:8080/"
        },
        "id": "pDP0u4dPdgFw",
        "outputId": "1e07f027-f026-4ef6-98ab-a37b69511417"
      },
      "outputs": [
        {
          "data": {
            "text/plain": [
              "[-1.0, 1.0, 1.0, 1.0, 1.0]"
            ]
          },
          "execution_count": 43,
          "metadata": {},
          "output_type": "execute_result"
        }
      ],
      "source": [
        "y_pred"
      ]
    }
  ],
  "metadata": {
    "colab": {
      "provenance": []
    },
    "kernelspec": {
      "display_name": "Python 3",
      "name": "python3"
    },
    "language_info": {
      "name": "python"
    }
  },
  "nbformat": 4,
  "nbformat_minor": 0
}
